{
  "nbformat": 4,
  "nbformat_minor": 0,
  "metadata": {
    "colab": {
      "provenance": [],
      "authorship_tag": "ABX9TyMu70kVNImVFDlW/9pD1hPp",
      "include_colab_link": true
    },
    "kernelspec": {
      "name": "python3",
      "display_name": "Python 3"
    },
    "language_info": {
      "name": "python"
    }
  },
  "cells": [
    {
      "cell_type": "markdown",
      "metadata": {
        "id": "view-in-github",
        "colab_type": "text"
      },
      "source": [
        "<a href=\"https://colab.research.google.com/github/MirianGreiner/Previsao_motivo_viagem/blob/main/Previs%C3%A3o_do_motivo_de_viagem_do_passageiro.ipynb\" target=\"_parent\"><img src=\"https://colab.research.google.com/assets/colab-badge.svg\" alt=\"Open In Colab\"/></a>"
      ]
    },
    {
      "cell_type": "markdown",
      "source": [
        "# Inferindo o motivo de viagem em dados de bilhetagem eletrônica"
      ],
      "metadata": {
        "id": "bA8F5nTK21jB"
      }
    },
    {
      "cell_type": "markdown",
      "source": [
        "##`Preparando o ambiente de desenvolvimento`"
      ],
      "metadata": {
        "id": "3f_b_brs4gyR"
      }
    },
    {
      "cell_type": "code",
      "execution_count": null,
      "metadata": {
        "id": "CSB4INN3C4Wr"
      },
      "outputs": [],
      "source": [
        "# Importação de pacotes\n",
        "\n",
        "import pandas as pd\n",
        "import numpy as np\n",
        "import matplotlib.pyplot as plt\n",
        "import seaborn as sns\n",
        "import datetime as dt\n",
        "import math\n",
        "from collections import Counter\n",
        "from sklearn.datasets import make_blobs\n",
        "from sklearn.cluster import KMeans\n",
        "from sklearn import metrics\n",
        "from sklearn.metrics import silhouette_score, r2_score, confusion_matrix, classification_report, accuracy_score, plot_confusion_matrix, roc_auc_score, roc_curve, auc, precision_score, recall_score, f1_score\n",
        "from sklearn.preprocessing import StandardScaler, MinMaxScaler, label_binarize, QuantileTransformer\n",
        "from sklearn.ensemble import RandomForestClassifier, AdaBoostClassifier, GradientBoostingClassifier, ExtraTreesClassifier, BaggingClassifier\n",
        "from sklearn.model_selection import train_test_split, cross_val_score, KFold, RandomizedSearchCV\n",
        "from sklearn import model_selection\n",
        "from sklearn.linear_model import LogisticRegression, LinearRegression, Ridge, LassoCV\n",
        "from sklearn import linear_model\n",
        "from sklearn.tree import DecisionTreeClassifier\n",
        "from sklearn.neighbors import KNeighborsClassifier\n",
        "from sklearn.discriminant_analysis import LinearDiscriminantAnalysis\n",
        "from sklearn.naive_bayes import GaussianNB\n",
        "from sklearn.svm import SVC\n",
        "from imblearn.over_sampling import SMOTE\n",
        "import xgboost as xgb\n",
        "import os\n",
        "from google.colab import auth, drive\n",
        "import sys\n",
        "import warnings\n",
        "warnings.filterwarnings('ignore')"
      ]
    },
    {
      "cell_type": "code",
      "source": [
        "# Autenticação ao Google Cloud Storage \n",
        "\n",
        "auth.authenticate_user()"
      ],
      "metadata": {
        "id": "3ARQg7v45smG"
      },
      "execution_count": 25,
      "outputs": []
    },
    {
      "cell_type": "code",
      "source": [
        "# Montagem do drive para download e upload de arquivos\n",
        "\n",
        "drive.mount('/content/gdrive')\n",
        "sys.path.insert(1,'/content/gdrive/My Drive/Mestrado')"
      ],
      "metadata": {
        "colab": {
          "base_uri": "https://localhost:8080/"
        },
        "id": "qQX3s4Rv7Hg0",
        "outputId": "17c53a75-706b-49f3-e377-c2d1dffe60bc"
      },
      "execution_count": 26,
      "outputs": [
        {
          "output_type": "stream",
          "name": "stdout",
          "text": [
            "Drive already mounted at /content/gdrive; to attempt to forcibly remount, call drive.mount(\"/content/gdrive\", force_remount=True).\n"
          ]
        }
      ]
    },
    {
      "cell_type": "markdown",
      "source": [
        "#`Importação de datasets`"
      ],
      "metadata": {
        "id": "wfMe96ix5VP2"
      }
    },
    {
      "cell_type": "code",
      "source": [
        "# Importação de Datasets\n",
        "\n",
        "viagens_internas = pd.read_csv(\"/content/gdrive/My Drive/Mestrado/viagens_internas.csv\", encoding = \"utf-8\", low_memory = False, sep = ';')"
      ],
      "metadata": {
        "id": "zMrDQM--5VwY"
      },
      "execution_count": 50,
      "outputs": []
    },
    {
      "cell_type": "markdown",
      "source": [
        "#`Pre-Processamento dos dados`"
      ],
      "metadata": {
        "id": "-rE62GsL8983"
      }
    },
    {
      "cell_type": "code",
      "source": [
        "# Seleção de variáveis Tabela Trajetos\n",
        "\n",
        "viagens = pd.DataFrame({\"ID_DOMICILIO\": viagens_internas[\"Domicilio\"],\n",
        "                        \"ID_PESSOA\": viagens_internas[\"Pessoa\"],\n",
        "                        \"ID_VIAGEM\": viagens_internas[\"Viagem\"],\n",
        "                        \"AH_ORIGEM\": viagens_internas[\"AH origem\"],\n",
        "                        \"AH_DESTINO\": viagens_internas[\"AH destino\"],\n",
        "                        \"MOTIVO_ORIGEM\": viagens_internas[\"motivo_origem\"],\n",
        "                        \"MOTIVO_DESTINO\": viagens_internas[\"motivo_destino\"], \n",
        "                        \"HORARIO_INICIO\": viagens_internas[\"Hora início\"],\n",
        "                        \"HORARIO_FIM\": viagens_internas[\"Hora fim\"],\n",
        "                        \"FAIXA_HORARIA\": viagens_internas[\"Faixa horária\"],\n",
        "                        \"MODO_TRANSPORTE\": viagens_internas[\"DS_SH_MEIO_TRANSPORTE\"],\n",
        "                        \"MODO_PRINCIPAL\": viagens_internas[\"Modos agrupados\"],\n",
        "                        \"FATOR_EXPANSÃO\": viagens_internas[\"Fator expansão\"]})\n",
        "\n",
        "# Ordenar DataFrame por ID_DOMICILIO \n",
        "\n",
        "viagens.sort_values(by=['ID_DOMICILIO'], inplace = True)"
      ],
      "metadata": {
        "id": "jPIu01WG8H8i"
      },
      "execution_count": 51,
      "outputs": []
    },
    {
      "cell_type": "code",
      "source": [
        "# Revisão do formato dos dados \n",
        "\n",
        "viagens['HORARIO_INICIO'] = pd.to_datetime(viagens['HORARIO_INICIO'])\n",
        "viagens['HORARIO_FIM'] = pd.to_datetime(viagens['HORARIO_FIM'])\n",
        "viagens[\"FATOR_EXPANSÃO\"] = viagens[\"FATOR_EXPANSÃO\"].str.replace(',', '.')\n",
        "viagens[\"FATOR_EXPANSÃO\"] = viagens[\"FATOR_EXPANSÃO\"].astype(float)"
      ],
      "metadata": {
        "id": "-QZBtJ9W9DLR"
      },
      "execution_count": 52,
      "outputs": []
    },
    {
      "cell_type": "code",
      "source": [
        "# Criação de chave ID_PESSOA + ID_DOMICÍLIO \n",
        "\n",
        "viagens[\"CHAVE\"] = viagens[\"ID_DOMICILIO\"].astype(str)+\"_\"+viagens[\"ID_PESSOA\"].astype(str)\n",
        "\n",
        "OD_2012 = viagens\n"
      ],
      "metadata": {
        "id": "doSUNSYjFzQB"
      },
      "execution_count": 53,
      "outputs": []
    },
    {
      "cell_type": "code",
      "source": [
        "# Ordenando o Data Frame final pelos IDs para identificar uma viagem\n",
        "\n",
        "OD_2012.sort_values(by=['ID_DOMICILIO', 'ID_PESSOA', 'ID_VIAGEM'], inplace = True)\n",
        "OD_2012.reset_index(drop=True, inplace=True)"
      ],
      "metadata": {
        "id": "3ha-4e56F7XK"
      },
      "execution_count": 54,
      "outputs": []
    },
    {
      "cell_type": "code",
      "source": [
        "# Primeira verificação: verificando se mais de uma viagem pertencem a uma mesma pessoa \n",
        "\n",
        "OD_2012['VERIFICAÇÃO_CHAVE'] = \"\"\n",
        "\n",
        "\n",
        "for i in range (0, (len(OD_2012['CHAVE'])-1)):\n",
        "    \n",
        "    if OD_2012['CHAVE'][i] == OD_2012['CHAVE'][i+1]:\n",
        "        OD_2012['VERIFICAÇÃO_CHAVE'][i] = 1\n",
        "    else:\n",
        "        OD_2012['VERIFICAÇÃO_CHAVE'][i] = 0\n",
        "        \n",
        "OD_2012['VERIFICAÇÃO_CHAVE'][len(OD_2012['CHAVE'])-1] = 0"
      ],
      "metadata": {
        "id": "HO8RRrWlTPwA"
      },
      "execution_count": 56,
      "outputs": []
    },
    {
      "cell_type": "code",
      "source": [
        "# Segunda verificação: verificando se o motivo de destino da primeira viagem corresponde ao motivo de origem da viagem seguinte\n",
        "\n",
        "OD_2012['VERIFICAÇÃO_MOTIVO'] = \"\"\n",
        "\n",
        "for i in range (0, (len(OD_2012['CHAVE'])-1)):\n",
        "    \n",
        "    if OD_2012['VERIFICAÇÃO_CHAVE'][i] == 0:\n",
        "        OD_2012['VERIFICAÇÃO_MOTIVO'][i] = 1\n",
        "    else:\n",
        "            if OD_2012['MOTIVO_ORIGEM'][i+1] == OD_2012['MOTIVO_DESTINO'][i]:\n",
        "                OD_2012['VERIFICAÇÃO_MOTIVO'][i] = 1\n",
        "                \n",
        "            else:\n",
        "                OD_2012['VERIFICAÇÃO_MOTIVO'][i] = 0 "
      ],
      "metadata": {
        "id": "i-TozC9LVtC_"
      },
      "execution_count": 57,
      "outputs": []
    },
    {
      "cell_type": "code",
      "source": [
        "# Criando a coluna saída_destino, que corresponde ao horário que a pessoa \"finalizou\" sua atividade no destino\n",
        "# essa informação será utilizada no cálculo da duração da atividade\n",
        "\n",
        "OD_2012['SAIDA_DESTINO'] = np.nan\n",
        "OD_2012['SAIDA_DESTINO'] = pd.to_datetime(OD_2012['SAIDA_DESTINO'], format=\"%H:%M:%S\")\n",
        "\n",
        "for i in range (0, (len(OD_2012['CHAVE']))):\n",
        "    \n",
        "    if OD_2012['VERIFICAÇÃO_CHAVE'][i] == 0:\n",
        "        if OD_2012['HORARIO_FIM'][i] > OD_2012['HORARIO_INICIO'][i-(OD_2012['ID_VIAGEM'][i])+1]:\n",
        "            OD_2012['SAIDA_DESTINO'][i] = OD_2012['HORARIO_INICIO'][i-(OD_2012['ID_VIAGEM'][i])+1] + dt.timedelta(days=1)\n",
        "        else:\n",
        "            OD_2012['SAIDA_DESTINO'][i] = OD_2012['HORARIO_INICIO'][i-(OD_2012['ID_VIAGEM'][i])+1]\n",
        "    else:\n",
        "        if OD_2012['HORARIO_FIM'][i] > OD_2012['HORARIO_INICIO'][i+1]:\n",
        "            OD_2012['SAIDA_DESTINO'][i] = OD_2012['HORARIO_INICIO'][i+1] + dt.timedelta(days=1)\n",
        "        else:\n",
        "            OD_2012['SAIDA_DESTINO'][i] = OD_2012['HORARIO_INICIO'][i+1]"
      ],
      "metadata": {
        "id": "DkK-cdozV8if"
      },
      "execution_count": 58,
      "outputs": []
    },
    {
      "cell_type": "code",
      "source": [
        "# Criando a coluna saída_destino, que corresponde ao horário que a pessoa \"finalizou\" sua atividade no destino\n",
        "# essa informação será utilizada no cálculo da duração da atividade\n",
        "\n",
        "OD_2012['DURACAO_ATIVIDADE'] = np.nan\n",
        "OD_2012['DURACAO_ATIVIDADE'] = pd.to_datetime(OD_2012['DURACAO_ATIVIDADE'], format=\"%H:%M:%S\")\n",
        "OD_2012['DURACAO_ATIVIDADE'] = OD_2012['SAIDA_DESTINO'] - OD_2012['HORARIO_FIM']\n",
        "\n",
        "OD_2012['TEMPO_ENTRE_EMBARQUES'] = np.nan\n",
        "OD_2012['TEMPO_ENTRE_EMBARQUES'] = pd.to_datetime(OD_2012['TEMPO_ENTRE_EMBARQUES'], format=\"%H:%M:%S\")\n",
        "\n",
        "for i in range (0, (len(OD_2012['CHAVE']))):\n",
        "    if OD_2012['SAIDA_DESTINO'][i] > OD_2012['HORARIO_INICIO'][i]:\n",
        "         OD_2012['TEMPO_ENTRE_EMBARQUES'][i] = OD_2012['SAIDA_DESTINO'][i] - OD_2012['HORARIO_INICIO'][i]\n",
        "    else:\n",
        "        OD_2012['TEMPO_ENTRE_EMBARQUES'][i] = OD_2012['SAIDA_DESTINO'][i] + dt.timedelta(days=1) - OD_2012['HORARIO_INICIO'][i]\n"
      ],
      "metadata": {
        "id": "0rDpFN1mWF-H"
      },
      "execution_count": 59,
      "outputs": []
    },
    {
      "cell_type": "code",
      "source": [
        "OD_2012['HORA_I'] = OD_2012['HORARIO_INICIO'].dt.hour\n",
        "OD_2012['HORA_F'] = OD_2012['HORARIO_FIM'].dt.hour"
      ],
      "metadata": {
        "id": "wSN2IdKdWGA9"
      },
      "execution_count": 60,
      "outputs": []
    },
    {
      "cell_type": "code",
      "source": [
        "# Simplificando a descrição dos campos de motivo de origem e motivo de destino\n",
        "\n",
        "OD_2012['MOTIVO_ORIGEM'] = OD_2012['MOTIVO_ORIGEM'].map({'Residência':'Residência',\n",
        "                                                         'Escola (Aulas / Atividades Escolares)':'Escola',\n",
        "                                                         'Trabalho (serviço)':'Trabalho',\n",
        "                                                         'Saúde (Médico / Dentista / Exame Clínico ou Laboratorial)':'Saúde',\n",
        "                                                         'Refeição (almoço  / jantar)':'Refeição', \n",
        "                                                         'Lazer (Turismo / Recreação / Visitas / Congressos / Seminários / Atividades religiosas)':'Lazer',\n",
        "                                                         'Trabalho (comércio)':'Trabalho',\n",
        "                                                         'Trabalho (indústria)':'Trabalho',\n",
        "                                                         'Outros':'Outros',\n",
        "                                                         'Compras':'Compras', \n",
        "                                                         'Fazer Escala (Transbordo em diferentes modos de transportes)':'Escala',\n",
        "                                                         'Negócios Particulares (Bancos / Loterias / etc)':'Negócios',\n",
        "                                                         'Levando outra pessoa (Dando carona)':'carona',\n",
        "                                                         'Transbordo Demorado':'Transbordo'})\n",
        "                                                        \n",
        "OD_2012['MOTIVO_DESTINO'] = OD_2012['MOTIVO_DESTINO'].map({'Residência':'Residência',\n",
        "                                                         'Escola (Aulas / Atividades Escolares)':'Escola',\n",
        "                                                         'Trabalho (serviço)':'Trabalho',\n",
        "                                                         'Saúde (Médico / Dentista / Exame Clínico ou Laboratorial)':'Saúde',\n",
        "                                                         'Refeição (almoço  / jantar)':'Refeição', \n",
        "                                                         'Lazer (Turismo / Recreação / Visitas / Congressos / Seminários / Atividades religiosas)':'Lazer',\n",
        "                                                         'Trabalho (comércio)':'Trabalho',\n",
        "                                                         'Trabalho (indústria)':'Trabalho',\n",
        "                                                         'Outros':'Outros',\n",
        "                                                         'Compras':'Compras', \n",
        "                                                         'Fazer Escala (Transbordo em diferentes modos de transportes)':'Escala',\n",
        "                                                         'Negócios Particulares (Bancos / Loterias / etc)':'Negócios',\n",
        "                                                         'Levando outra pessoa (Dando carona)':'carona',\n",
        "                                                         'Transbordo Demorado':'Transbordo'})                                                        "
      ],
      "metadata": {
        "id": "rdaHaxOFWGD4"
      },
      "execution_count": 61,
      "outputs": []
    },
    {
      "cell_type": "code",
      "source": [
        "# Corrigindo os casos em que o passageiro realiza transbordo/escala na origem ou no destino.\n",
        "# como este banco de dados corresponde às viagens completas, o aparecimento do motivo \"escala/transbordo\" como origem ou\n",
        "# destino não está correto. Estas informações sobre segmentos de viagem devem constar apenas no banco de dados trajetos, que\n",
        "# descrevem todas as \"pernas\" da viagem\n",
        "# Corrigindo dados faltantes na coluna de motivo de destino\n",
        "\n",
        "OD_2012['VERIFICAÇÃO_ESCALA'] = \"\"\n",
        "\n",
        "for i in range (0, (len(OD_2012['CHAVE'])-1)):\n",
        "    \n",
        "    if OD_2012['CHAVE'][i] == OD_2012['CHAVE'][i+1]:\n",
        "        if OD_2012['MOTIVO_DESTINO'][i] == 'Escala' or OD_2012['MOTIVO_DESTINO'][i] == 'Transbordo' or OD_2012['MOTIVO_DESTINO'].isnull()[i] == True:\n",
        "            OD_2012['VERIFICAÇÃO_ESCALA'][i] = OD_2012['MOTIVO_ORIGEM'][i+1]\n",
        "        else:\n",
        "            OD_2012['VERIFICAÇÃO_ESCALA'][i] = OD_2012['MOTIVO_DESTINO'][i]\n",
        "    else:\n",
        "            OD_2012['VERIFICAÇÃO_ESCALA'][i] = OD_2012['MOTIVO_DESTINO'][i]"
      ],
      "metadata": {
        "id": "kOw0MWGKWGGa"
      },
      "execution_count": 63,
      "outputs": []
    },
    {
      "cell_type": "code",
      "source": [
        "# Exclui registros com destino \"Escala\"\n",
        "\n",
        "OD_2012.drop(OD_2012.loc[(OD_2012.VERIFICAÇÃO_ESCALA == 'Escala') | (OD_2012.VERIFICAÇÃO_ESCALA =='Transbordo')].index, inplace=True)\n",
        "OD_2012.reset_index(drop=True, inplace=True)\n",
        "OD_2012['VERIFICAÇÃO_ESCALA'][len(OD_2012['CHAVE'])-1] = OD_2012['MOTIVO_DESTINO'][len(OD_2012['CHAVE'])-1]"
      ],
      "metadata": {
        "id": "qOOyk_tMWGIn"
      },
      "execution_count": 64,
      "outputs": []
    },
    {
      "cell_type": "code",
      "source": [
        "# Filtra dados sem transbordo\n",
        "\n",
        "OD_2012_FILTRO = OD_2012['ID_DOMICILIO'] == 24\n",
        "OD_2012_FILTRO = OD_2012[OD_2012_FILTRO]"
      ],
      "metadata": {
        "id": "lquw-dc8WGLG"
      },
      "execution_count": 65,
      "outputs": []
    },
    {
      "cell_type": "code",
      "source": [
        "# Conta quantos dados ainda permaneceram com o motivo de destino da viagem em branco\n",
        "\n",
        "OD_2012['VERIFICAÇÃO_ESCALA'].isnull().sum()"
      ],
      "metadata": {
        "id": "nEEqB7YIXCp2",
        "colab": {
          "base_uri": "https://localhost:8080/"
        },
        "outputId": "e205303a-1bff-4af3-f4ca-4e44f738e123"
      },
      "execution_count": 66,
      "outputs": [
        {
          "output_type": "execute_result",
          "data": {
            "text/plain": [
              "2"
            ]
          },
          "metadata": {},
          "execution_count": 66
        }
      ]
    },
    {
      "cell_type": "code",
      "source": [
        "#Verifica casos sem substituição\n",
        "\n",
        "OD_2012_escala= OD_2012[(OD_2012.VERIFICAÇÃO_ESCALA == 'Escala') | (OD_2012.VERIFICAÇÃO_ESCALA =='Transbordo') | (OD_2012.VERIFICAÇÃO_ESCALA.isnull() )]"
      ],
      "metadata": {
        "id": "5IRHk1zjXCuq"
      },
      "execution_count": 67,
      "outputs": []
    },
    {
      "cell_type": "code",
      "source": [
        "# Filtrando apenas os deslocamentos feitos pelo modo de transporte coletivo, já que os dados de Smart Card estão\n",
        "# disponíveis apenas para este modo de transporte\n",
        "\n",
        "OD_2012_modo = OD_2012['MODO_PRINCIPAL'] =='coletivo'\n",
        "OD_2012_TC = OD_2012[OD_2012_modo]"
      ],
      "metadata": {
        "id": "jjT2TkaCXCxY"
      },
      "execution_count": 68,
      "outputs": []
    },
    {
      "cell_type": "code",
      "source": [
        "# Calcula o valor ponderado da duração\n",
        "\n",
        "OD_2012_TC['DURACAO_HR'] = OD_2012_TC['DURACAO_ATIVIDADE']/dt.timedelta(hours=1)\n",
        "OD_2012_TC['DURACAO_PRODUTO'] = OD_2012_TC['FATOR_EXPANSÃO'] * OD_2012_TC['DURACAO_HR']\n",
        "OD_2012_TC['TEMPO_EMBARQUES_HR'] = OD_2012_TC['TEMPO_ENTRE_EMBARQUES']/dt.timedelta(hours=1)\n",
        "OD_2012_TC['TEMPO_EMBARQUES_PRODUTO'] = OD_2012_TC['FATOR_EXPANSÃO'] * OD_2012_TC['TEMPO_EMBARQUES_HR']\n",
        "pd.options.display.float_format='{:,.2f}'.format"
      ],
      "metadata": {
        "id": "6bpYuwCOXC0Q"
      },
      "execution_count": 69,
      "outputs": []
    },
    {
      "cell_type": "code",
      "source": [
        "# Filtra dados sem transbordo\n",
        "\n",
        "OD_2012_TC_FILTRO = OD_2012_TC['ID_DOMICILIO'] == 24\n",
        "OD_2012_TC_FILTRO = OD_2012_TC[OD_2012_TC_FILTRO]"
      ],
      "metadata": {
        "id": "3SN8j-cXXC22"
      },
      "execution_count": 70,
      "outputs": []
    },
    {
      "cell_type": "code",
      "source": [
        "OD_2012_TC['HORA_I_CAT']=pd.cut(OD_2012_TC.HORA_I, bins=[0,9,13,24], labels=['A','B','C'], include_lowest=True)\n",
        "OD_2012_TC['TEMPO_EMBARQUES_CAT']=pd.cut(OD_2012_TC.TEMPO_EMBARQUES_HR, bins=[0,3,6,8,11,15,24], labels=['a','b','c','d','e','f'], include_lowest=True)\n",
        "OD_2012_TC['HORA_TEMPO_EMBARQUES']=OD_2012_TC['HORA_I_CAT'].astype(str)+OD_2012_TC['TEMPO_EMBARQUES_CAT'].astype(str)\n",
        "pd.set_option('display.max_columns', None)"
      ],
      "metadata": {
        "id": "bNlJSpPLXC5T"
      },
      "execution_count": 71,
      "outputs": []
    },
    {
      "cell_type": "code",
      "source": [
        "# RELATÓRIO: Quantidade de viagens por motivo\n",
        "\n",
        "VIAGENS_MOTIVO = pd.DataFrame({'VIAGENS':OD_2012_TC.groupby('VERIFICAÇÃO_ESCALA')['FATOR_EXPANSÃO'].sum(),\n",
        "                               'DURACAO_MED':OD_2012_TC.groupby('VERIFICAÇÃO_ESCALA')['DURACAO_PRODUTO'].sum()/OD_2012_TC.groupby('VERIFICAÇÃO_ESCALA')['FATOR_EXPANSÃO'].sum(),\n",
        "                               'TEMPO_EMBARQUES_MED':OD_2012_TC.groupby('VERIFICAÇÃO_ESCALA')['TEMPO_EMBARQUES_PRODUTO'].sum()/OD_2012_TC.groupby('VERIFICAÇÃO_ESCALA')['FATOR_EXPANSÃO'].sum()})\n",
        "VIAGENS_MOTIVO['MOTIVO'] = VIAGENS_MOTIVO['VIAGENS'].index\n",
        "pd.options.display.float_format='{:,.2f}'.format"
      ],
      "metadata": {
        "id": "E3Wqws1beIbj"
      },
      "execution_count": 72,
      "outputs": []
    },
    {
      "cell_type": "code",
      "source": [
        "# RELATÓRIO: Viagens atraídas por hora\n",
        "\n",
        "embarques_faixa_i = pd.DataFrame({'RESIDENCIA':OD_2012_TC[OD_2012_TC['VERIFICAÇÃO_ESCALA']=='Residência'].groupby('HORA_I')['FATOR_EXPANSÃO'].sum(),\n",
        "                                'TRABALHO':OD_2012_TC[OD_2012_TC['VERIFICAÇÃO_ESCALA']=='Trabalho'].groupby('HORA_I')['FATOR_EXPANSÃO'].sum(),\n",
        "                                'ESCOLA':OD_2012_TC[OD_2012_TC['VERIFICAÇÃO_ESCALA']=='Escola'].groupby('HORA_I')['FATOR_EXPANSÃO'].sum(),\n",
        "                                'NEGOCIOS':OD_2012_TC[OD_2012_TC['VERIFICAÇÃO_ESCALA']=='Negócios'].groupby('HORA_I')['FATOR_EXPANSÃO'].sum(),\n",
        "                                'SAUDE':OD_2012_TC[OD_2012_TC['VERIFICAÇÃO_ESCALA']=='Saúde'].groupby('HORA_I')['FATOR_EXPANSÃO'].sum(),\n",
        "                                'LAZER':OD_2012_TC[OD_2012_TC['VERIFICAÇÃO_ESCALA']=='Lazer'].groupby('HORA_I')['FATOR_EXPANSÃO'].sum(),\n",
        "                                'OUTROS':OD_2012_TC[OD_2012_TC['VERIFICAÇÃO_ESCALA']=='Outros'].groupby('HORA_I')['FATOR_EXPANSÃO'].sum(),\n",
        "                                'COMPRAS':OD_2012_TC[OD_2012_TC['VERIFICAÇÃO_ESCALA']=='Compras'].groupby('HORA_I')['FATOR_EXPANSÃO'].sum(),\n",
        "                                'CARONA':OD_2012_TC[OD_2012_TC['VERIFICAÇÃO_ESCALA']=='carona'].groupby('HORA_I')['FATOR_EXPANSÃO'].sum(),\n",
        "                                'REFEICAO':OD_2012_TC[OD_2012_TC['VERIFICAÇÃO_ESCALA']=='Refeição'].groupby('HORA_I')['FATOR_EXPANSÃO'].sum()})\n",
        "\n",
        "embarques_faixa_i['HORA_I']=embarques_faixa_i['RESIDENCIA'].index\n",
        "pd.options.display.float_format='{:,.0f}'.format"
      ],
      "metadata": {
        "id": "uCHMjJKGeIfO"
      },
      "execution_count": 73,
      "outputs": []
    },
    {
      "cell_type": "code",
      "source": [
        "embarques_faixa_i = embarques_faixa_i.fillna(0)"
      ],
      "metadata": {
        "id": "3kelaJrmeIh9"
      },
      "execution_count": 74,
      "outputs": []
    },
    {
      "cell_type": "code",
      "source": [
        "# Primeira verificação: verificando se mais de uma viagem pertencem a uma mesma pessoa \n",
        "\n",
        "embarques_faixa_i['OUTROS_2012'] = \"\"\n",
        "\n",
        "\n",
        "for i in range (0, (len(embarques_faixa_i['HORA_I']))):\n",
        "    embarques_faixa_i['OUTROS_2012'][i] = embarques_faixa_i['NEGOCIOS'][i]+ embarques_faixa_i['SAUDE'][i]+ embarques_faixa_i['LAZER'][i]+ embarques_faixa_i['COMPRAS'][i]+ embarques_faixa_i['CARONA'][i]+ embarques_faixa_i['REFEICAO'][i]+ embarques_faixa_i['OUTROS'][i]\n"
      ],
      "metadata": {
        "id": "KFFPlAhzeIkM"
      },
      "execution_count": 75,
      "outputs": []
    },
    {
      "cell_type": "code",
      "source": [
        "# GRÁFICO: Visualiza a quantidade de viagens por faixa\n",
        "\n",
        "embarques_faixa_i.plot(x='HORA_I', y=['RESIDENCIA', 'TRABALHO', 'ESCOLA'], kind=\"line\", figsize=(15,4), xticks=range(0,24))\n",
        "plt.gca().set_axis_off()\n",
        "plt.subplots_adjust(top = 1, bottom = 0, right = 1, left = 0, \n",
        "            hspace = 0, wspace = 0)\n",
        "plt.margins(0,0)\n",
        "plt.gca().xaxis.set_major_locator(plt.NullLocator())\n",
        "plt.gca().yaxis.set_major_locator(plt.NullLocator())\n",
        "plt.savefig(\"D:\\\\OneDrive - cefetmg.br\\\\004.PC_servidor\\\\MMC-main\\\\embarques_faixa_i.png\", dpi = 300, bbox_inches = 'tight',\n",
        "    pad_inches = 0)"
      ],
      "metadata": {
        "colab": {
          "base_uri": "https://localhost:8080/",
          "height": 319
        },
        "id": "pCxtO1AIeInU",
        "outputId": "52407a6b-cc3a-48b2-ec39-a4b184c04833"
      },
      "execution_count": 76,
      "outputs": [
        {
          "output_type": "display_data",
          "data": {
            "text/plain": [
              "<Figure size 1080x288 with 1 Axes>"
            ],
            "image/png": "[encoded data removed]"
          },
          "metadata": {}
        }
      ]
    },
    {
      "cell_type": "code",
      "source": [
        "# GRÁFICO: Visualiza a quantidade de viagens por faixa\n",
        "\n",
        "embarques_faixa_i.plot(x='HORA_I', y=['NEGOCIOS', 'SAUDE', 'LAZER', 'COMPRAS'], kind=\"line\", figsize=(15,4), xticks=range(0,24))"
      ],
      "metadata": {
        "colab": {
          "base_uri": "https://localhost:8080/",
          "height": 299
        },
        "id": "XPt4K0JheIsU",
        "outputId": "879370f7-23a9-448e-dacb-2ddc91250831"
      },
      "execution_count": 77,
      "outputs": [
        {
          "output_type": "execute_result",
          "data": {
            "text/plain": [
              "<matplotlib.axes._subplots.AxesSubplot at 0x7fe32e717eb0>"
            ]
          },
          "metadata": {},
          "execution_count": 77
        },
        {
          "output_type": "display_data",
          "data": {
            "text/plain": [
              "<Figure size 1080x288 with 1 Axes>"
            ],
            "image/png": "[encoded data removed]"
          },
          "metadata": {
            "needs_background": "light"
          }
        }
      ]
    },
    {
      "cell_type": "code",
      "source": [
        "# RELATÓRIO: Viagens atraídas por hora\n",
        "\n",
        "embarques_faixa_f = pd.DataFrame({'RESIDENCIA':OD_2012_TC[OD_2012_TC['VERIFICAÇÃO_ESCALA']=='Residência'].groupby('HORA_F')['FATOR_EXPANSÃO'].sum(),\n",
        "                                'TRABALHO':OD_2012_TC[OD_2012_TC['VERIFICAÇÃO_ESCALA']=='Trabalho'].groupby('HORA_F')['FATOR_EXPANSÃO'].sum(),\n",
        "                                'ESCOLA':OD_2012_TC[OD_2012_TC['VERIFICAÇÃO_ESCALA']=='Escola'].groupby('HORA_F')['FATOR_EXPANSÃO'].sum(),\n",
        "                                'NEGOCIOS':OD_2012_TC[OD_2012_TC['VERIFICAÇÃO_ESCALA']=='Negócios'].groupby('HORA_F')['FATOR_EXPANSÃO'].sum(),\n",
        "                                'SAUDE':OD_2012_TC[OD_2012_TC['VERIFICAÇÃO_ESCALA']=='Saúde'].groupby('HORA_F')['FATOR_EXPANSÃO'].sum(),\n",
        "                                'LAZER':OD_2012_TC[OD_2012_TC['VERIFICAÇÃO_ESCALA']=='Lazer'].groupby('HORA_F')['FATOR_EXPANSÃO'].sum(),\n",
        "                                'OUTROS':OD_2012_TC[OD_2012_TC['VERIFICAÇÃO_ESCALA']=='Outros'].groupby('HORA_F')['FATOR_EXPANSÃO'].sum(),\n",
        "                                'COMPRAS':OD_2012_TC[OD_2012_TC['VERIFICAÇÃO_ESCALA']=='Compras'].groupby('HORA_F')['FATOR_EXPANSÃO'].sum(),\n",
        "                                'CARONA':OD_2012_TC[OD_2012_TC['VERIFICAÇÃO_ESCALA']=='carona'].groupby('HORA_F')['FATOR_EXPANSÃO'].sum(),\n",
        "                                'REFEICAO':OD_2012_TC[OD_2012_TC['VERIFICAÇÃO_ESCALA']=='Refeição'].groupby('HORA_F')['FATOR_EXPANSÃO'].sum()})\n",
        "\n",
        "embarques_faixa_f['HORA_F']=embarques_faixa_f['RESIDENCIA'].index\n",
        "pd.options.display.float_format='{:,.0f}'.format"
      ],
      "metadata": {
        "id": "4s7JhadVeIvb"
      },
      "execution_count": 78,
      "outputs": []
    },
    {
      "cell_type": "code",
      "source": [
        "# GRÁFICO: Visualiza a quantidade de viagens pore faixa\n",
        "\n",
        "embarques_faixa_f.plot(x='HORA_F', y=['RESIDENCIA', 'TRABALHO', 'ESCOLA'], kind=\"line\", figsize=(15,4), xticks=range(0,24))"
      ],
      "metadata": {
        "id": "HG9LH6VBXC7j",
        "colab": {
          "base_uri": "https://localhost:8080/",
          "height": 297
        },
        "outputId": "e72a8c2a-9336-4e1a-e7c0-9e0cf62a17fd"
      },
      "execution_count": 79,
      "outputs": [
        {
          "output_type": "execute_result",
          "data": {
            "text/plain": [
              "<matplotlib.axes._subplots.AxesSubplot at 0x7fe32d311340>"
            ]
          },
          "metadata": {},
          "execution_count": 79
        },
        {
          "output_type": "display_data",
          "data": {
            "text/plain": [
              "<Figure size 1080x288 with 1 Axes>"
            ],
            "image/png": "[encoded data removed]"
          },
          "metadata": {
            "needs_background": "light"
          }
        }
      ]
    },
    {
      "cell_type": "code",
      "source": [
        "# GRÁFICO: Visualiza a quantidade de viagens pore faixa\n",
        "\n",
        "embarques_faixa_f.plot(x='HORA_F', y=['NEGOCIOS', 'SAUDE', 'LAZER', 'COMPRAS'], kind=\"line\", figsize=(15,4), xticks=range(0,24))"
      ],
      "metadata": {
        "colab": {
          "base_uri": "https://localhost:8080/",
          "height": 298
        },
        "id": "cpL0dboRfhOM",
        "outputId": "c5d38566-8aa2-4418-aa45-50f7c2abc378"
      },
      "execution_count": 80,
      "outputs": [
        {
          "output_type": "execute_result",
          "data": {
            "text/plain": [
              "<matplotlib.axes._subplots.AxesSubplot at 0x7fe32d2c9970>"
            ]
          },
          "metadata": {},
          "execution_count": 80
        },
        {
          "output_type": "display_data",
          "data": {
            "text/plain": [
              "<Figure size 1080x288 with 1 Axes>"
            ],
            "image/png": "[encoded data removed]"
          },
          "metadata": {
            "needs_background": "light"
          }
        }
      ]
    },
    {
      "cell_type": "code",
      "source": [
        "residencia = OD_2012_TC['VERIFICAÇÃO_ESCALA']=='Residência'\n",
        "OD_2012_TC_res = OD_2012_TC[residencia]\n",
        "\n",
        "trabalho = OD_2012_TC['VERIFICAÇÃO_ESCALA']=='Trabalho'\n",
        "OD_2012_TC_tra = OD_2012_TC[trabalho]\n",
        "\n",
        "escola = OD_2012_TC['VERIFICAÇÃO_ESCALA']=='Escola'\n",
        "OD_2012_TC_esc = OD_2012_TC[escola]\n",
        "\n",
        "negocios = OD_2012_TC['VERIFICAÇÃO_ESCALA']=='Negócios'\n",
        "OD_2012_TC_neg = OD_2012_TC[negocios]\n",
        "\n",
        "saude = OD_2012_TC['VERIFICAÇÃO_ESCALA']=='Saúde'\n",
        "OD_2012_TC_sau = OD_2012_TC[saude]\n",
        "\n",
        "lazer = OD_2012_TC['VERIFICAÇÃO_ESCALA']=='Lazer'\n",
        "OD_2012_TC_laz = OD_2012_TC[lazer]\n",
        "\n",
        "compras = OD_2012_TC['VERIFICAÇÃO_ESCALA']=='Compras'\n",
        "OD_2012_TC_com = OD_2012_TC[compras]\n",
        "\n",
        "refeicao = OD_2012_TC['VERIFICAÇÃO_ESCALA']=='Refeição'\n",
        "OD_2012_TC_ref = OD_2012_TC[refeicao]\n",
        "\n",
        "carona = OD_2012_TC['VERIFICAÇÃO_ESCALA']=='carona'\n",
        "OD_2012_TC_car = OD_2012_TC[carona]\n",
        "\n",
        "outros = OD_2012_TC['VERIFICAÇÃO_ESCALA']=='Outros'\n",
        "OD_2012_TC_out = OD_2012_TC[outros]"
      ],
      "metadata": {
        "id": "GF0tx1ZzfhRy"
      },
      "execution_count": 81,
      "outputs": []
    },
    {
      "cell_type": "code",
      "source": [
        "pd.options.display.float_format='{:,.1f}'.format\n",
        "OD_2012_TC_sau.describe()"
      ],
      "metadata": {
        "colab": {
          "base_uri": "https://localhost:8080/",
          "height": 395
        },
        "id": "5vNe0yYyfhTv",
        "outputId": "2cbb8de6-c46c-4f35-f257-48784b0732d6"
      },
      "execution_count": 82,
      "outputs": [
        {
          "output_type": "execute_result",
          "data": {
            "text/plain": [
              "       ID_DOMICILIO  ID_PESSOA  ID_VIAGEM  AH_ORIGEM  AH_DESTINO  \\\n",
              "count       1,048.0    1,048.0    1,048.0    1,048.0     1,048.0   \n",
              "mean       19,562.9        1.5        1.2    5,559.3     3,390.7   \n",
              "std        11,875.3        0.9        0.6    6,554.8     4,915.9   \n",
              "min            12.0        1.0        1.0    1,001.0     1,001.0   \n",
              "25%         9,203.0        1.0        1.0    1,412.0     1,018.0   \n",
              "50%        18,732.5        1.0        1.0    1,825.0     1,222.5   \n",
              "75%        28,005.2        2.0        1.0    5,326.0     2,025.5   \n",
              "max        43,873.0        8.0        5.0   32,102.0    30,006.0   \n",
              "\n",
              "       FATOR_EXPANSÃO          DURACAO_ATIVIDADE  HORA_I  HORA_F  DURACAO_HR  \\\n",
              "count         1,048.0                       1048 1,048.0 1,048.0     1,048.0   \n",
              "mean            134.5  0 days 02:21:14.370229007    10.0    11.0         2.4   \n",
              "std             260.7  0 days 02:35:55.397605631     3.4     3.3         2.6   \n",
              "min               4.5            0 days 00:00:00     4.0     5.0         0.0   \n",
              "25%              66.1            0 days 00:55:00     7.0     8.0         0.9   \n",
              "50%             108.9            0 days 01:35:00     9.0    10.0         1.6   \n",
              "75%             146.4            0 days 03:00:00    13.0    14.0         3.0   \n",
              "max           4,071.1            0 days 23:35:00    21.0    21.0        23.6   \n",
              "\n",
              "       DURACAO_PRODUTO  TEMPO_EMBARQUES_HR  TEMPO_EMBARQUES_PRODUTO  \n",
              "count          1,048.0             1,048.0                  1,048.0  \n",
              "mean             272.8                 3.5                    409.8  \n",
              "std              478.5                 2.7                    597.0  \n",
              "min                0.0                 0.2                      6.6  \n",
              "25%               75.5                 2.0                    162.2  \n",
              "50%              161.9                 2.8                    289.9  \n",
              "75%              319.9                 4.2                    490.7  \n",
              "max            7,802.9                24.0                 10,177.7  "
            ],
            "text/html": [
              "\n",
              "  <div id=\"df-081f8802-fad6-415b-93e3-8e72f3bab381\">\n",
              "    <div class=\"colab-df-container\">\n",
              "      <div>\n",
              "<style scoped>\n",
              "    .dataframe tbody tr th:only-of-type {\n",
              "        vertical-align: middle;\n",
              "    }\n",
              "\n",
              "    .dataframe tbody tr th {\n",
              "        vertical-align: top;\n",
              "    }\n",
              "\n",
              "    .dataframe thead th {\n",
              "        text-align: right;\n",
              "    }\n",
              "</style>\n",
              "<table border=\"1\" class=\"dataframe\">\n",
              "  <thead>\n",
              "    <tr style=\"text-align: right;\">\n",
              "      <th></th>\n",
              "      <th>ID_DOMICILIO</th>\n",
              "      <th>ID_PESSOA</th>\n",
              "      <th>ID_VIAGEM</th>\n",
              "      <th>AH_ORIGEM</th>\n",
              "      <th>AH_DESTINO</th>\n",
              "      <th>FATOR_EXPANSÃO</th>\n",
              "      <th>DURACAO_ATIVIDADE</th>\n",
              "      <th>HORA_I</th>\n",
              "      <th>HORA_F</th>\n",
              "      <th>DURACAO_HR</th>\n",
              "      <th>DURACAO_PRODUTO</th>\n",
              "      <th>TEMPO_EMBARQUES_HR</th>\n",
              "      <th>TEMPO_EMBARQUES_PRODUTO</th>\n",
              "    </tr>\n",
              "  </thead>\n",
              "  <tbody>\n",
              "    <tr>\n",
              "      <th>count</th>\n",
              "      <td>1,048.0</td>\n",
              "      <td>1,048.0</td>\n",
              "      <td>1,048.0</td>\n",
              "      <td>1,048.0</td>\n",
              "      <td>1,048.0</td>\n",
              "      <td>1,048.0</td>\n",
              "      <td>1048</td>\n",
              "      <td>1,048.0</td>\n",
              "      <td>1,048.0</td>\n",
              "      <td>1,048.0</td>\n",
              "      <td>1,048.0</td>\n",
              "      <td>1,048.0</td>\n",
              "      <td>1,048.0</td>\n",
              "    </tr>\n",
              "    <tr>\n",
              "      <th>mean</th>\n",
              "      <td>19,562.9</td>\n",
              "      <td>1.5</td>\n",
              "      <td>1.2</td>\n",
              "      <td>5,559.3</td>\n",
              "      <td>3,390.7</td>\n",
              "      <td>134.5</td>\n",
              "      <td>0 days 02:21:14.370229007</td>\n",
              "      <td>10.0</td>\n",
              "      <td>11.0</td>\n",
              "      <td>2.4</td>\n",
              "      <td>272.8</td>\n",
              "      <td>3.5</td>\n",
              "      <td>409.8</td>\n",
              "    </tr>\n",
              "    <tr>\n",
              "      <th>std</th>\n",
              "      <td>11,875.3</td>\n",
              "      <td>0.9</td>\n",
              "      <td>0.6</td>\n",
              "      <td>6,554.8</td>\n",
              "      <td>4,915.9</td>\n",
              "      <td>260.7</td>\n",
              "      <td>0 days 02:35:55.397605631</td>\n",
              "      <td>3.4</td>\n",
              "      <td>3.3</td>\n",
              "      <td>2.6</td>\n",
              "      <td>478.5</td>\n",
              "      <td>2.7</td>\n",
              "      <td>597.0</td>\n",
              "    </tr>\n",
              "    <tr>\n",
              "      <th>min</th>\n",
              "      <td>12.0</td>\n",
              "      <td>1.0</td>\n",
              "      <td>1.0</td>\n",
              "      <td>1,001.0</td>\n",
              "      <td>1,001.0</td>\n",
              "      <td>4.5</td>\n",
              "      <td>0 days 00:00:00</td>\n",
              "      <td>4.0</td>\n",
              "      <td>5.0</td>\n",
              "      <td>0.0</td>\n",
              "      <td>0.0</td>\n",
              "      <td>0.2</td>\n",
              "      <td>6.6</td>\n",
              "    </tr>\n",
              "    <tr>\n",
              "      <th>25%</th>\n",
              "      <td>9,203.0</td>\n",
              "      <td>1.0</td>\n",
              "      <td>1.0</td>\n",
              "      <td>1,412.0</td>\n",
              "      <td>1,018.0</td>\n",
              "      <td>66.1</td>\n",
              "      <td>0 days 00:55:00</td>\n",
              "      <td>7.0</td>\n",
              "      <td>8.0</td>\n",
              "      <td>0.9</td>\n",
              "      <td>75.5</td>\n",
              "      <td>2.0</td>\n",
              "      <td>162.2</td>\n",
              "    </tr>\n",
              "    <tr>\n",
              "      <th>50%</th>\n",
              "      <td>18,732.5</td>\n",
              "      <td>1.0</td>\n",
              "      <td>1.0</td>\n",
              "      <td>1,825.0</td>\n",
              "      <td>1,222.5</td>\n",
              "      <td>108.9</td>\n",
              "      <td>0 days 01:35:00</td>\n",
              "      <td>9.0</td>\n",
              "      <td>10.0</td>\n",
              "      <td>1.6</td>\n",
              "      <td>161.9</td>\n",
              "      <td>2.8</td>\n",
              "      <td>289.9</td>\n",
              "    </tr>\n",
              "    <tr>\n",
              "      <th>75%</th>\n",
              "      <td>28,005.2</td>\n",
              "      <td>2.0</td>\n",
              "      <td>1.0</td>\n",
              "      <td>5,326.0</td>\n",
              "      <td>2,025.5</td>\n",
              "      <td>146.4</td>\n",
              "      <td>0 days 03:00:00</td>\n",
              "      <td>13.0</td>\n",
              "      <td>14.0</td>\n",
              "      <td>3.0</td>\n",
              "      <td>319.9</td>\n",
              "      <td>4.2</td>\n",
              "      <td>490.7</td>\n",
              "    </tr>\n",
              "    <tr>\n",
              "      <th>max</th>\n",
              "      <td>43,873.0</td>\n",
              "      <td>8.0</td>\n",
              "      <td>5.0</td>\n",
              "      <td>32,102.0</td>\n",
              "      <td>30,006.0</td>\n",
              "      <td>4,071.1</td>\n",
              "      <td>0 days 23:35:00</td>\n",
              "      <td>21.0</td>\n",
              "      <td>21.0</td>\n",
              "      <td>23.6</td>\n",
              "      <td>7,802.9</td>\n",
              "      <td>24.0</td>\n",
              "      <td>10,177.7</td>\n",
              "    </tr>\n",
              "  </tbody>\n",
              "</table>\n",
              "</div>\n",
              "      <button class=\"colab-df-convert\" onclick=\"convertToInteractive('df-081f8802-fad6-415b-93e3-8e72f3bab381')\"\n",
              "              title=\"Convert this dataframe to an interactive table.\"\n",
              "              style=\"display:none;\">\n",
              "        \n",
              "  <svg xmlns=\"http://www.w3.org/2000/svg\" height=\"24px\"viewBox=\"0 0 24 24\"\n",
              "       width=\"24px\">\n",
              "    <path d=\"M0 0h24v24H0V0z\" fill=\"none\"/>\n",
              "    <path d=\"M18.56 5.44l.94 2.06.94-2.06 2.06-.94-2.06-.94-.94-2.06-.94 2.06-2.06.94zm-11 1L8.5 8.5l.94-2.06 2.06-.94-2.06-.94L8.5 2.5l-.94 2.06-2.06.94zm10 10l.94 2.06.94-2.06 2.06-.94-2.06-.94-.94-2.06-.94 2.06-2.06.94z\"/><path d=\"M17.41 7.96l-1.37-1.37c-.4-.4-.92-.59-1.43-.59-.52 0-1.04.2-1.43.59L10.3 9.45l-7.72 7.72c-.78.78-.78 2.05 0 2.83L4 21.41c.39.39.9.59 1.41.59.51 0 1.02-.2 1.41-.59l7.78-7.78 2.81-2.81c.8-.78.8-2.07 0-2.86zM5.41 20L4 18.59l7.72-7.72 1.47 1.35L5.41 20z\"/>\n",
              "  </svg>\n",
              "      </button>\n",
              "      \n",
              "  <style>\n",
              "    .colab-df-container {\n",
              "      display:flex;\n",
              "      flex-wrap:wrap;\n",
              "      gap: 12px;\n",
              "    }\n",
              "\n",
              "    .colab-df-convert {\n",
              "      background-color: #E8F0FE;\n",
              "      border: none;\n",
              "      border-radius: 50%;\n",
              "      cursor: pointer;\n",
              "      display: none;\n",
              "      fill: #1967D2;\n",
              "      height: 32px;\n",
              "      padding: 0 0 0 0;\n",
              "      width: 32px;\n",
              "    }\n",
              "\n",
              "    .colab-df-convert:hover {\n",
              "      background-color: #E2EBFA;\n",
              "      box-shadow: 0px 1px 2px rgba(60, 64, 67, 0.3), 0px 1px 3px 1px rgba(60, 64, 67, 0.15);\n",
              "      fill: #174EA6;\n",
              "    }\n",
              "\n",
              "    [theme=dark] .colab-df-convert {\n",
              "      background-color: #3B4455;\n",
              "      fill: #D2E3FC;\n",
              "    }\n",
              "\n",
              "    [theme=dark] .colab-df-convert:hover {\n",
              "      background-color: #434B5C;\n",
              "      box-shadow: 0px 1px 3px 1px rgba(0, 0, 0, 0.15);\n",
              "      filter: drop-shadow(0px 1px 2px rgba(0, 0, 0, 0.3));\n",
              "      fill: #FFFFFF;\n",
              "    }\n",
              "  </style>\n",
              "\n",
              "      <script>\n",
              "        const buttonEl =\n",
              "          document.querySelector('#df-081f8802-fad6-415b-93e3-8e72f3bab381 button.colab-df-convert');\n",
              "        buttonEl.style.display =\n",
              "          google.colab.kernel.accessAllowed ? 'block' : 'none';\n",
              "\n",
              "        async function convertToInteractive(key) {\n",
              "          const element = document.querySelector('#df-081f8802-fad6-415b-93e3-8e72f3bab381');\n",
              "          const dataTable =\n",
              "            await google.colab.kernel.invokeFunction('convertToInteractive',\n",
              "                                                     [key], {});\n",
              "          if (!dataTable) return;\n",
              "\n",
              "          const docLinkHtml = 'Like what you see? Visit the ' +\n",
              "            '<a target=\"_blank\" href=https://colab.research.google.com/notebooks/data_table.ipynb>data table notebook</a>'\n",
              "            + ' to learn more about interactive tables.';\n",
              "          element.innerHTML = '';\n",
              "          dataTable['output_type'] = 'display_data';\n",
              "          await google.colab.output.renderOutput(dataTable, element);\n",
              "          const docLink = document.createElement('div');\n",
              "          docLink.innerHTML = docLinkHtml;\n",
              "          element.appendChild(docLink);\n",
              "        }\n",
              "      </script>\n",
              "    </div>\n",
              "  </div>\n",
              "  "
            ]
          },
          "metadata": {},
          "execution_count": 82
        }
      ]
    },
    {
      "cell_type": "markdown",
      "source": [
        "# Modelo 1"
      ],
      "metadata": {
        "id": "EiWqI0K4gswp"
      }
    },
    {
      "cell_type": "code",
      "source": [
        "# Cria o DataFrame do modelo\n",
        "\n",
        "DF_MODELO = pd.DataFrame({'MOTIVO':OD_2012_TC['VERIFICAÇÃO_ESCALA'],\n",
        "                          'HORARIO_INICIO_VIAGEM':OD_2012_TC['HORARIO_INICIO'].dt.hour+OD_2012_TC['HORARIO_INICIO'].dt.minute/60+OD_2012_TC['HORARIO_INICIO'].dt.second/3600,\n",
        "                          'TEMPO_ENTRE_EMBARQUES':OD_2012_TC['TEMPO_EMBARQUES_HR']})\n",
        "\n",
        "pd.options.display.float_format='{:,.2f}'.format\n",
        "DF_MODELO"
      ],
      "metadata": {
        "colab": {
          "base_uri": "https://localhost:8080/",
          "height": 419
        },
        "id": "yG2cDHsDfhV_",
        "outputId": "a6423703-c7ec-4d53-e1cd-210f7afcd59c"
      },
      "execution_count": 83,
      "outputs": [
        {
          "output_type": "execute_result",
          "data": {
            "text/plain": [
              "            MOTIVO  HORARIO_INICIO_VIAGEM  TEMPO_ENTRE_EMBARQUES\n",
              "0           Escola                  11.75                   1.33\n",
              "1       Residência                  13.08                  22.67\n",
              "2           Escola                  17.00                   5.67\n",
              "3       Residência                  22.67                  18.33\n",
              "6         Trabalho                   5.75                   7.25\n",
              "...            ...                    ...                    ...\n",
              "139987  Residência                  17.00                  13.50\n",
              "139996      Escola                   5.67                   5.92\n",
              "139999  Residência                  17.50                  12.17\n",
              "140000      Escola                  12.67                   4.75\n",
              "140001  Residência                  17.42                  19.25\n",
              "\n",
              "[39699 rows x 3 columns]"
            ],
            "text/html": [
              "\n",
              "  <div id=\"df-a63ebe0c-b1ee-4003-8d52-b427866bf5b0\">\n",
              "    <div class=\"colab-df-container\">\n",
              "      <div>\n",
              "<style scoped>\n",
              "    .dataframe tbody tr th:only-of-type {\n",
              "        vertical-align: middle;\n",
              "    }\n",
              "\n",
              "    .dataframe tbody tr th {\n",
              "        vertical-align: top;\n",
              "    }\n",
              "\n",
              "    .dataframe thead th {\n",
              "        text-align: right;\n",
              "    }\n",
              "</style>\n",
              "<table border=\"1\" class=\"dataframe\">\n",
              "  <thead>\n",
              "    <tr style=\"text-align: right;\">\n",
              "      <th></th>\n",
              "      <th>MOTIVO</th>\n",
              "      <th>HORARIO_INICIO_VIAGEM</th>\n",
              "      <th>TEMPO_ENTRE_EMBARQUES</th>\n",
              "    </tr>\n",
              "  </thead>\n",
              "  <tbody>\n",
              "    <tr>\n",
              "      <th>0</th>\n",
              "      <td>Escola</td>\n",
              "      <td>11.75</td>\n",
              "      <td>1.33</td>\n",
              "    </tr>\n",
              "    <tr>\n",
              "      <th>1</th>\n",
              "      <td>Residência</td>\n",
              "      <td>13.08</td>\n",
              "      <td>22.67</td>\n",
              "    </tr>\n",
              "    <tr>\n",
              "      <th>2</th>\n",
              "      <td>Escola</td>\n",
              "      <td>17.00</td>\n",
              "      <td>5.67</td>\n",
              "    </tr>\n",
              "    <tr>\n",
              "      <th>3</th>\n",
              "      <td>Residência</td>\n",
              "      <td>22.67</td>\n",
              "      <td>18.33</td>\n",
              "    </tr>\n",
              "    <tr>\n",
              "      <th>6</th>\n",
              "      <td>Trabalho</td>\n",
              "      <td>5.75</td>\n",
              "      <td>7.25</td>\n",
              "    </tr>\n",
              "    <tr>\n",
              "      <th>...</th>\n",
              "      <td>...</td>\n",
              "      <td>...</td>\n",
              "      <td>...</td>\n",
              "    </tr>\n",
              "    <tr>\n",
              "      <th>139987</th>\n",
              "      <td>Residência</td>\n",
              "      <td>17.00</td>\n",
              "      <td>13.50</td>\n",
              "    </tr>\n",
              "    <tr>\n",
              "      <th>139996</th>\n",
              "      <td>Escola</td>\n",
              "      <td>5.67</td>\n",
              "      <td>5.92</td>\n",
              "    </tr>\n",
              "    <tr>\n",
              "      <th>139999</th>\n",
              "      <td>Residência</td>\n",
              "      <td>17.50</td>\n",
              "      <td>12.17</td>\n",
              "    </tr>\n",
              "    <tr>\n",
              "      <th>140000</th>\n",
              "      <td>Escola</td>\n",
              "      <td>12.67</td>\n",
              "      <td>4.75</td>\n",
              "    </tr>\n",
              "    <tr>\n",
              "      <th>140001</th>\n",
              "      <td>Residência</td>\n",
              "      <td>17.42</td>\n",
              "      <td>19.25</td>\n",
              "    </tr>\n",
              "  </tbody>\n",
              "</table>\n",
              "<p>39699 rows × 3 columns</p>\n",
              "</div>\n",
              "      <button class=\"colab-df-convert\" onclick=\"convertToInteractive('df-a63ebe0c-b1ee-4003-8d52-b427866bf5b0')\"\n",
              "              title=\"Convert this dataframe to an interactive table.\"\n",
              "              style=\"display:none;\">\n",
              "        \n",
              "  <svg xmlns=\"http://www.w3.org/2000/svg\" height=\"24px\"viewBox=\"0 0 24 24\"\n",
              "       width=\"24px\">\n",
              "    <path d=\"M0 0h24v24H0V0z\" fill=\"none\"/>\n",
              "    <path d=\"M18.56 5.44l.94 2.06.94-2.06 2.06-.94-2.06-.94-.94-2.06-.94 2.06-2.06.94zm-11 1L8.5 8.5l.94-2.06 2.06-.94-2.06-.94L8.5 2.5l-.94 2.06-2.06.94zm10 10l.94 2.06.94-2.06 2.06-.94-2.06-.94-.94-2.06-.94 2.06-2.06.94z\"/><path d=\"M17.41 7.96l-1.37-1.37c-.4-.4-.92-.59-1.43-.59-.52 0-1.04.2-1.43.59L10.3 9.45l-7.72 7.72c-.78.78-.78 2.05 0 2.83L4 21.41c.39.39.9.59 1.41.59.51 0 1.02-.2 1.41-.59l7.78-7.78 2.81-2.81c.8-.78.8-2.07 0-2.86zM5.41 20L4 18.59l7.72-7.72 1.47 1.35L5.41 20z\"/>\n",
              "  </svg>\n",
              "      </button>\n",
              "      \n",
              "  <style>\n",
              "    .colab-df-container {\n",
              "      display:flex;\n",
              "      flex-wrap:wrap;\n",
              "      gap: 12px;\n",
              "    }\n",
              "\n",
              "    .colab-df-convert {\n",
              "      background-color: #E8F0FE;\n",
              "      border: none;\n",
              "      border-radius: 50%;\n",
              "      cursor: pointer;\n",
              "      display: none;\n",
              "      fill: #1967D2;\n",
              "      height: 32px;\n",
              "      padding: 0 0 0 0;\n",
              "      width: 32px;\n",
              "    }\n",
              "\n",
              "    .colab-df-convert:hover {\n",
              "      background-color: #E2EBFA;\n",
              "      box-shadow: 0px 1px 2px rgba(60, 64, 67, 0.3), 0px 1px 3px 1px rgba(60, 64, 67, 0.15);\n",
              "      fill: #174EA6;\n",
              "    }\n",
              "\n",
              "    [theme=dark] .colab-df-convert {\n",
              "      background-color: #3B4455;\n",
              "      fill: #D2E3FC;\n",
              "    }\n",
              "\n",
              "    [theme=dark] .colab-df-convert:hover {\n",
              "      background-color: #434B5C;\n",
              "      box-shadow: 0px 1px 3px 1px rgba(0, 0, 0, 0.15);\n",
              "      filter: drop-shadow(0px 1px 2px rgba(0, 0, 0, 0.3));\n",
              "      fill: #FFFFFF;\n",
              "    }\n",
              "  </style>\n",
              "\n",
              "      <script>\n",
              "        const buttonEl =\n",
              "          document.querySelector('#df-a63ebe0c-b1ee-4003-8d52-b427866bf5b0 button.colab-df-convert');\n",
              "        buttonEl.style.display =\n",
              "          google.colab.kernel.accessAllowed ? 'block' : 'none';\n",
              "\n",
              "        async function convertToInteractive(key) {\n",
              "          const element = document.querySelector('#df-a63ebe0c-b1ee-4003-8d52-b427866bf5b0');\n",
              "          const dataTable =\n",
              "            await google.colab.kernel.invokeFunction('convertToInteractive',\n",
              "                                                     [key], {});\n",
              "          if (!dataTable) return;\n",
              "\n",
              "          const docLinkHtml = 'Like what you see? Visit the ' +\n",
              "            '<a target=\"_blank\" href=https://colab.research.google.com/notebooks/data_table.ipynb>data table notebook</a>'\n",
              "            + ' to learn more about interactive tables.';\n",
              "          element.innerHTML = '';\n",
              "          dataTable['output_type'] = 'display_data';\n",
              "          await google.colab.output.renderOutput(dataTable, element);\n",
              "          const docLink = document.createElement('div');\n",
              "          docLink.innerHTML = docLinkHtml;\n",
              "          element.appendChild(docLink);\n",
              "        }\n",
              "      </script>\n",
              "    </div>\n",
              "  </div>\n",
              "  "
            ]
          },
          "metadata": {},
          "execution_count": 83
        }
      ]
    },
    {
      "cell_type": "code",
      "source": [
        "# Verificando a distribuição de registros por motivo de viagem\n",
        "\n",
        "y = DF_MODELO['MOTIVO'].values\n",
        "\n",
        "counter = Counter(y)\n",
        "counter"
      ],
      "metadata": {
        "colab": {
          "base_uri": "https://localhost:8080/"
        },
        "id": "N1dAgmG9fhYf",
        "outputId": "133efad5-fb11-4afc-cb95-f6c30da7c209"
      },
      "execution_count": 84,
      "outputs": [
        {
          "output_type": "execute_result",
          "data": {
            "text/plain": [
              "Counter({'Escola': 6703,\n",
              "         'Residência': 18592,\n",
              "         'Trabalho': 10099,\n",
              "         'Refeição': 33,\n",
              "         'Saúde': 1048,\n",
              "         'Lazer': 751,\n",
              "         'carona': 234,\n",
              "         'Negócios': 931,\n",
              "         'Compras': 557,\n",
              "         'Outros': 750,\n",
              "         nan: 1})"
            ]
          },
          "metadata": {},
          "execution_count": 84
        }
      ]
    },
    {
      "cell_type": "code",
      "source": [
        "# Verifica e apaga casos com variável target nula\n",
        "\n",
        "DF_MODELO_NaN = DF_MODELO[(DF_MODELO.MOTIVO.isnull())]\n",
        "DF_MODELO_NaN\n",
        "\n",
        "DF_MODELO = DF_MODELO.dropna()\n",
        "print(\"DataFrame after removing rows with NaN value in All Columns:\")\n",
        "print(DF_MODELO)"
      ],
      "metadata": {
        "colab": {
          "base_uri": "https://localhost:8080/"
        },
        "id": "VVM0r81Jfha6",
        "outputId": "3617816c-d8f8-47b2-9c7f-3c1cebdcc0ce"
      },
      "execution_count": 85,
      "outputs": [
        {
          "output_type": "stream",
          "name": "stdout",
          "text": [
            "DataFrame after removing rows with NaN value in All Columns:\n",
            "            MOTIVO  HORARIO_INICIO_VIAGEM  TEMPO_ENTRE_EMBARQUES\n",
            "0           Escola                  11.75                   1.33\n",
            "1       Residência                  13.08                  22.67\n",
            "2           Escola                  17.00                   5.67\n",
            "3       Residência                  22.67                  18.33\n",
            "6         Trabalho                   5.75                   7.25\n",
            "...            ...                    ...                    ...\n",
            "139987  Residência                  17.00                  13.50\n",
            "139996      Escola                   5.67                   5.92\n",
            "139999  Residência                  17.50                  12.17\n",
            "140000      Escola                  12.67                   4.75\n",
            "140001  Residência                  17.42                  19.25\n",
            "\n",
            "[39698 rows x 3 columns]\n"
          ]
        }
      ]
    },
    {
      "cell_type": "code",
      "source": [
        "# Visualiza a distribuição do número de viagens por motivo\n",
        "\n",
        "plt.figure(figsize=(18,12))\n",
        "ax = sns.countplot(x=\"MOTIVO\", data=DF_MODELO)\n",
        "plt.gcf().set_size_inches(15, 4)"
      ],
      "metadata": {
        "colab": {
          "base_uri": "https://localhost:8080/",
          "height": 280
        },
        "id": "FbY0STK2fhdh",
        "outputId": "ca3a6358-1305-4a64-e301-791646d44f6b"
      },
      "execution_count": 86,
      "outputs": [
        {
          "output_type": "display_data",
          "data": {
            "text/plain": [
              "<Figure size 1080x288 with 1 Axes>"
            ],
            "image/png": "[encoded data removed]"
          },
          "metadata": {
            "needs_background": "light"
          }
        }
      ]
    },
    {
      "cell_type": "code",
      "source": [
        "# Definindo as variáveis do modelo \n",
        "\n",
        "X_M1 = DF_MODELO.iloc[:,1:]\n",
        "y_M1 = DF_MODELO['MOTIVO'].values"
      ],
      "metadata": {
        "id": "ecW9oNIdfhf3"
      },
      "execution_count": 87,
      "outputs": []
    },
    {
      "cell_type": "code",
      "source": [
        "# Divide o DataFrame em treino teste\n",
        "x1_training, x1_test, y1_training, y1_test = train_test_split(X_M1, y_M1, test_size = 0.2)"
      ],
      "metadata": {
        "id": "VVHFGXMDfhiF"
      },
      "execution_count": 88,
      "outputs": []
    },
    {
      "cell_type": "code",
      "source": [
        "# Testa diferentes modelo de classificação\n",
        "\n",
        "# Definindo os valores para o número de folds\n",
        "\n",
        "num_folds = 10\n",
        "num_instances = len(x1_training)\n",
        "seed = 7\n",
        "\n",
        "#Preparando os modelos\n",
        "modelos = []\n",
        "modelos.append(('KNN', KNeighborsClassifier()))\n",
        "modelos.append(('CART', DecisionTreeClassifier()))\n",
        "modelos.append(('NB', GaussianNB()))\n",
        "#modelos.append(('SVM', SVC()))\n",
        "#modelos.append(('ADA', AdaBoostClassifier()))\n",
        "#modelos.append(('GBM', GradientBoostingClassifier()))\n",
        "modelos.append(('RF', RandomForestClassifier()))\n",
        "#modelos.append(('XGB', xgb.XGBClassifier()))"
      ],
      "metadata": {
        "id": "CDg6ZtLxfhkU"
      },
      "execution_count": 89,
      "outputs": []
    },
    {
      "cell_type": "code",
      "source": [
        "# Avaliando cada modelo\n",
        "resultados = []\n",
        "nomes = []\n",
        "\n",
        "for nome, modelo in modelos:\n",
        "    kfold = model_selection.KFold(n_splits=num_folds, random_state=seed, shuffle=True)\n",
        "    cv_results = model_selection.cross_val_score(modelo, x1_training, y1_training, cv=kfold, scoring='accuracy')\n",
        "    resultados.append(cv_results)\n",
        "    nomes.append(nome)\n",
        "    msg = \"%s: %f (%f)\" % (nome, cv_results.mean(), cv_results.std())\n",
        "    print(msg)\n",
        "    \n",
        "# Boxplot para comparar os algoritmos\n",
        "fig = plt.figure(figsize=(12,8))\n",
        "fig.suptitle('Comparação de Algoritmos de Classificação')\n",
        "ax = fig.add_subplot(111)\n",
        "plt.boxplot(resultados, patch_artist=True)\n",
        "ax.set_xticklabels(nomes)\n",
        "plt.show()"
      ],
      "metadata": {
        "id": "C4xfvUSEXC9y",
        "colab": {
          "base_uri": "https://localhost:8080/",
          "height": 608
        },
        "outputId": "544dbe4a-6b19-499a-836e-be375fafd8cd"
      },
      "execution_count": 90,
      "outputs": [
        {
          "output_type": "stream",
          "name": "stdout",
          "text": [
            "KNN: 0.838750 (0.007319)\n",
            "CART: 0.832231 (0.007767)\n",
            "NB: 0.786574 (0.009240)\n",
            "RF: 0.840765 (0.008556)\n"
          ]
        },
        {
          "output_type": "display_data",
          "data": {
            "text/plain": [
              "<Figure size 864x576 with 1 Axes>"
            ],
            "image/png": "[encoded data removed]"
          },
          "metadata": {
            "needs_background": "light"
          }
        }
      ]
    },
    {
      "cell_type": "code",
      "source": [
        "# Matriz de confusão (modelo Random Forest)\n",
        "\n",
        "num_folds = 10\n",
        "num_instances = len(x1_training)\n",
        "seed = 7\n",
        "\n",
        "RF_1 = RandomForestClassifier()"
      ],
      "metadata": {
        "id": "el4Mzf6uhSPZ"
      },
      "execution_count": 91,
      "outputs": []
    },
    {
      "cell_type": "code",
      "source": [
        "kfold = model_selection.KFold(n_splits=num_folds, random_state=seed, shuffle=True)\n",
        "cv_results = model_selection.cross_val_score(RF_1, x1_training, y1_training, cv=kfold, scoring='accuracy')"
      ],
      "metadata": {
        "id": "n-ofWw0xhSSG"
      },
      "execution_count": 92,
      "outputs": []
    },
    {
      "cell_type": "code",
      "source": [
        "# Plot non-normalized confusion matrix\n",
        "\n",
        "from sklearn.metrics import ConfusionMatrixDisplay\n",
        "RF_1.fit(x1_training, y1_training)\n",
        "previsao_RF = RF_1.predict(x1_test)\n",
        "\n",
        "plt.figure(figsize=(1000, 1000))\n",
        "cf_1 = confusion_matrix(y1_test, previsao_RF)\n",
        "print(cf_1)\n"
      ],
      "metadata": {
        "colab": {
          "base_uri": "https://localhost:8080/",
          "height": 579
        },
        "id": "PoR_i44ehSUm",
        "outputId": "3d78cfd6-3451-46fc-a642-e94a43960839"
      },
      "execution_count": 93,
      "outputs": [
        {
          "output_type": "stream",
          "name": "stdout",
          "text": [
            "[[  14    8    5   32   10    0   14   23    9    0]\n",
            " [   2 1153   15   13    6    0   19   19  147    1]\n",
            " [   6   23   21   15    6    1   24   28   34    1]\n",
            " [  16    8    3   62   15    0   20   42    8    5]\n",
            " [   3   14    6   31   23    1   23   15   27   16]\n",
            " [   0    0    0    0    1    0    3    2    0    0]\n",
            " [   9   20    2   22   12    3 3554   15   44    6]\n",
            " [  16   36   13   43   11    0   19   77   24    5]\n",
            " [   2  131   14   13   13    1   53    9 1738    4]\n",
            " [   3    5    3    1   10    0    5    4    4    3]]\n",
            "Error in callback <function install_repl_displayhook.<locals>.post_execute at 0x7fe36f6d7280> (for post_execute):\n"
          ]
        },
        {
          "output_type": "error",
          "ename": "ValueError",
          "evalue": "ignored",
          "traceback": [
            "\u001b[0;31m---------------------------------------------------------------------------\u001b[0m",
            "\u001b[0;31mValueError\u001b[0m                                Traceback (most recent call last)",
            "\u001b[0;32m/usr/local/lib/python3.8/dist-packages/matplotlib/pyplot.py\u001b[0m in \u001b[0;36mpost_execute\u001b[0;34m()\u001b[0m\n\u001b[1;32m    107\u001b[0m             \u001b[0;32mdef\u001b[0m \u001b[0mpost_execute\u001b[0m\u001b[0;34m(\u001b[0m\u001b[0;34m)\u001b[0m\u001b[0;34m:\u001b[0m\u001b[0;34m\u001b[0m\u001b[0;34m\u001b[0m\u001b[0m\n\u001b[1;32m    108\u001b[0m                 \u001b[0;32mif\u001b[0m \u001b[0mmatplotlib\u001b[0m\u001b[0;34m.\u001b[0m\u001b[0mis_interactive\u001b[0m\u001b[0;34m(\u001b[0m\u001b[0;34m)\u001b[0m\u001b[0;34m:\u001b[0m\u001b[0;34m\u001b[0m\u001b[0;34m\u001b[0m\u001b[0m\n\u001b[0;32m--> 109\u001b[0;31m                     \u001b[0mdraw_all\u001b[0m\u001b[0;34m(\u001b[0m\u001b[0;34m)\u001b[0m\u001b[0;34m\u001b[0m\u001b[0;34m\u001b[0m\u001b[0m\n\u001b[0m\u001b[1;32m    110\u001b[0m \u001b[0;34m\u001b[0m\u001b[0m\n\u001b[1;32m    111\u001b[0m             \u001b[0;31m# IPython >= 2\u001b[0m\u001b[0;34m\u001b[0m\u001b[0;34m\u001b[0m\u001b[0;34m\u001b[0m\u001b[0m\n",
            "\u001b[0;32m/usr/local/lib/python3.8/dist-packages/matplotlib/_pylab_helpers.py\u001b[0m in \u001b[0;36mdraw_all\u001b[0;34m(cls, force)\u001b[0m\n\u001b[1;32m    125\u001b[0m         \u001b[0;32mfor\u001b[0m \u001b[0mf_mgr\u001b[0m \u001b[0;32min\u001b[0m \u001b[0mcls\u001b[0m\u001b[0;34m.\u001b[0m\u001b[0mget_all_fig_managers\u001b[0m\u001b[0;34m(\u001b[0m\u001b[0;34m)\u001b[0m\u001b[0;34m:\u001b[0m\u001b[0;34m\u001b[0m\u001b[0;34m\u001b[0m\u001b[0m\n\u001b[1;32m    126\u001b[0m             \u001b[0;32mif\u001b[0m \u001b[0mforce\u001b[0m \u001b[0;32mor\u001b[0m \u001b[0mf_mgr\u001b[0m\u001b[0;34m.\u001b[0m\u001b[0mcanvas\u001b[0m\u001b[0;34m.\u001b[0m\u001b[0mfigure\u001b[0m\u001b[0;34m.\u001b[0m\u001b[0mstale\u001b[0m\u001b[0;34m:\u001b[0m\u001b[0;34m\u001b[0m\u001b[0;34m\u001b[0m\u001b[0m\n\u001b[0;32m--> 127\u001b[0;31m                 \u001b[0mf_mgr\u001b[0m\u001b[0;34m.\u001b[0m\u001b[0mcanvas\u001b[0m\u001b[0;34m.\u001b[0m\u001b[0mdraw_idle\u001b[0m\u001b[0;34m(\u001b[0m\u001b[0;34m)\u001b[0m\u001b[0;34m\u001b[0m\u001b[0;34m\u001b[0m\u001b[0m\n\u001b[0m\u001b[1;32m    128\u001b[0m \u001b[0;34m\u001b[0m\u001b[0m\n\u001b[1;32m    129\u001b[0m \u001b[0matexit\u001b[0m\u001b[0;34m.\u001b[0m\u001b[0mregister\u001b[0m\u001b[0;34m(\u001b[0m\u001b[0mGcf\u001b[0m\u001b[0;34m.\u001b[0m\u001b[0mdestroy_all\u001b[0m\u001b[0;34m)\u001b[0m\u001b[0;34m\u001b[0m\u001b[0;34m\u001b[0m\u001b[0m\n",
            "\u001b[0;32m/usr/local/lib/python3.8/dist-packages/matplotlib/backend_bases.py\u001b[0m in \u001b[0;36mdraw_idle\u001b[0;34m(self, *args, **kwargs)\u001b[0m\n\u001b[1;32m   1945\u001b[0m         \u001b[0;32mif\u001b[0m \u001b[0;32mnot\u001b[0m \u001b[0mself\u001b[0m\u001b[0;34m.\u001b[0m\u001b[0m_is_idle_drawing\u001b[0m\u001b[0;34m:\u001b[0m\u001b[0;34m\u001b[0m\u001b[0;34m\u001b[0m\u001b[0m\n\u001b[1;32m   1946\u001b[0m             \u001b[0;32mwith\u001b[0m \u001b[0mself\u001b[0m\u001b[0;34m.\u001b[0m\u001b[0m_idle_draw_cntx\u001b[0m\u001b[0;34m(\u001b[0m\u001b[0;34m)\u001b[0m\u001b[0;34m:\u001b[0m\u001b[0;34m\u001b[0m\u001b[0;34m\u001b[0m\u001b[0m\n\u001b[0;32m-> 1947\u001b[0;31m                 \u001b[0mself\u001b[0m\u001b[0;34m.\u001b[0m\u001b[0mdraw\u001b[0m\u001b[0;34m(\u001b[0m\u001b[0;34m*\u001b[0m\u001b[0margs\u001b[0m\u001b[0;34m,\u001b[0m \u001b[0;34m**\u001b[0m\u001b[0mkwargs\u001b[0m\u001b[0;34m)\u001b[0m\u001b[0;34m\u001b[0m\u001b[0;34m\u001b[0m\u001b[0m\n\u001b[0m\u001b[1;32m   1948\u001b[0m \u001b[0;34m\u001b[0m\u001b[0m\n\u001b[1;32m   1949\u001b[0m     \u001b[0;34m@\u001b[0m\u001b[0mcbook\u001b[0m\u001b[0;34m.\u001b[0m\u001b[0mdeprecated\u001b[0m\u001b[0;34m(\u001b[0m\u001b[0;34m\"3.2\"\u001b[0m\u001b[0;34m)\u001b[0m\u001b[0;34m\u001b[0m\u001b[0;34m\u001b[0m\u001b[0m\n",
            "\u001b[0;32m/usr/local/lib/python3.8/dist-packages/matplotlib/backends/backend_agg.py\u001b[0m in \u001b[0;36mdraw\u001b[0;34m(self)\u001b[0m\n\u001b[1;32m    386\u001b[0m         \u001b[0mDraw\u001b[0m \u001b[0mthe\u001b[0m \u001b[0mfigure\u001b[0m \u001b[0musing\u001b[0m \u001b[0mthe\u001b[0m \u001b[0mrenderer\u001b[0m\u001b[0;34m.\u001b[0m\u001b[0;34m\u001b[0m\u001b[0;34m\u001b[0m\u001b[0m\n\u001b[1;32m    387\u001b[0m         \"\"\"\n\u001b[0;32m--> 388\u001b[0;31m         \u001b[0mself\u001b[0m\u001b[0;34m.\u001b[0m\u001b[0mrenderer\u001b[0m \u001b[0;34m=\u001b[0m \u001b[0mself\u001b[0m\u001b[0;34m.\u001b[0m\u001b[0mget_renderer\u001b[0m\u001b[0;34m(\u001b[0m\u001b[0mcleared\u001b[0m\u001b[0;34m=\u001b[0m\u001b[0;32mTrue\u001b[0m\u001b[0;34m)\u001b[0m\u001b[0;34m\u001b[0m\u001b[0;34m\u001b[0m\u001b[0m\n\u001b[0m\u001b[1;32m    389\u001b[0m         \u001b[0;31m# Acquire a lock on the shared font cache.\u001b[0m\u001b[0;34m\u001b[0m\u001b[0;34m\u001b[0m\u001b[0;34m\u001b[0m\u001b[0m\n\u001b[1;32m    390\u001b[0m         \u001b[0;32mwith\u001b[0m \u001b[0mRendererAgg\u001b[0m\u001b[0;34m.\u001b[0m\u001b[0mlock\u001b[0m\u001b[0;34m,\u001b[0m\u001b[0;31m \u001b[0m\u001b[0;31m\\\u001b[0m\u001b[0;34m\u001b[0m\u001b[0;34m\u001b[0m\u001b[0m\n",
            "\u001b[0;32m/usr/local/lib/python3.8/dist-packages/matplotlib/backends/backend_agg.py\u001b[0m in \u001b[0;36mget_renderer\u001b[0;34m(self, cleared)\u001b[0m\n\u001b[1;32m    402\u001b[0m                           and getattr(self, \"_lastKey\", None) == key)\n\u001b[1;32m    403\u001b[0m         \u001b[0;32mif\u001b[0m \u001b[0;32mnot\u001b[0m \u001b[0mreuse_renderer\u001b[0m\u001b[0;34m:\u001b[0m\u001b[0;34m\u001b[0m\u001b[0;34m\u001b[0m\u001b[0m\n\u001b[0;32m--> 404\u001b[0;31m             \u001b[0mself\u001b[0m\u001b[0;34m.\u001b[0m\u001b[0mrenderer\u001b[0m \u001b[0;34m=\u001b[0m \u001b[0mRendererAgg\u001b[0m\u001b[0;34m(\u001b[0m\u001b[0mw\u001b[0m\u001b[0;34m,\u001b[0m \u001b[0mh\u001b[0m\u001b[0;34m,\u001b[0m \u001b[0mself\u001b[0m\u001b[0;34m.\u001b[0m\u001b[0mfigure\u001b[0m\u001b[0;34m.\u001b[0m\u001b[0mdpi\u001b[0m\u001b[0;34m)\u001b[0m\u001b[0;34m\u001b[0m\u001b[0;34m\u001b[0m\u001b[0m\n\u001b[0m\u001b[1;32m    405\u001b[0m             \u001b[0mself\u001b[0m\u001b[0;34m.\u001b[0m\u001b[0m_lastKey\u001b[0m \u001b[0;34m=\u001b[0m \u001b[0mkey\u001b[0m\u001b[0;34m\u001b[0m\u001b[0;34m\u001b[0m\u001b[0m\n\u001b[1;32m    406\u001b[0m         \u001b[0;32melif\u001b[0m \u001b[0mcleared\u001b[0m\u001b[0;34m:\u001b[0m\u001b[0;34m\u001b[0m\u001b[0;34m\u001b[0m\u001b[0m\n",
            "\u001b[0;32m/usr/local/lib/python3.8/dist-packages/matplotlib/backends/backend_agg.py\u001b[0m in \u001b[0;36m__init__\u001b[0;34m(self, width, height, dpi)\u001b[0m\n\u001b[1;32m     90\u001b[0m         \u001b[0mself\u001b[0m\u001b[0;34m.\u001b[0m\u001b[0mwidth\u001b[0m \u001b[0;34m=\u001b[0m \u001b[0mwidth\u001b[0m\u001b[0;34m\u001b[0m\u001b[0;34m\u001b[0m\u001b[0m\n\u001b[1;32m     91\u001b[0m         \u001b[0mself\u001b[0m\u001b[0;34m.\u001b[0m\u001b[0mheight\u001b[0m \u001b[0;34m=\u001b[0m \u001b[0mheight\u001b[0m\u001b[0;34m\u001b[0m\u001b[0;34m\u001b[0m\u001b[0m\n\u001b[0;32m---> 92\u001b[0;31m         \u001b[0mself\u001b[0m\u001b[0;34m.\u001b[0m\u001b[0m_renderer\u001b[0m \u001b[0;34m=\u001b[0m \u001b[0m_RendererAgg\u001b[0m\u001b[0;34m(\u001b[0m\u001b[0mint\u001b[0m\u001b[0;34m(\u001b[0m\u001b[0mwidth\u001b[0m\u001b[0;34m)\u001b[0m\u001b[0;34m,\u001b[0m \u001b[0mint\u001b[0m\u001b[0;34m(\u001b[0m\u001b[0mheight\u001b[0m\u001b[0;34m)\u001b[0m\u001b[0;34m,\u001b[0m \u001b[0mdpi\u001b[0m\u001b[0;34m)\u001b[0m\u001b[0;34m\u001b[0m\u001b[0;34m\u001b[0m\u001b[0m\n\u001b[0m\u001b[1;32m     93\u001b[0m         \u001b[0mself\u001b[0m\u001b[0;34m.\u001b[0m\u001b[0m_filter_renderers\u001b[0m \u001b[0;34m=\u001b[0m \u001b[0;34m[\u001b[0m\u001b[0;34m]\u001b[0m\u001b[0;34m\u001b[0m\u001b[0;34m\u001b[0m\u001b[0m\n\u001b[1;32m     94\u001b[0m \u001b[0;34m\u001b[0m\u001b[0m\n",
            "\u001b[0;31mValueError\u001b[0m: Image size of 72000x72000 pixels is too large. It must be less than 2^16 in each direction."
          ]
        },
        {
          "output_type": "display_data",
          "data": {
            "text/plain": [
              "<Figure size 72000x72000 with 0 Axes>"
            ]
          },
          "metadata": {}
        }
      ]
    },
    {
      "cell_type": "code",
      "source": [
        "labels = ['True Neg','False Pos','False Neg','True Pos']\n",
        "categories = ['Compras', 'Escola', 'Lazer', 'Negócios', 'Outros', 'Refeição', 'Residência', 'Saúde', 'Trabalho', 'Carona']\n",
        "\n",
        "\n",
        "def make_confusion_matrix(cf,\n",
        "                          group_names=None,\n",
        "                          categories='auto',\n",
        "                          count=True,\n",
        "                          percent=False,\n",
        "                          cbar=True,\n",
        "                          xyticks=True,\n",
        "                          xyplotlabels=True,\n",
        "                          sum_stats=True,\n",
        "                          figsize=None,\n",
        "                          cmap='Blues',\n",
        "                          title=None):\n",
        "    '''\n",
        "    This function will make a pretty plot of an sklearn Confusion Matrix cm using a Seaborn heatmap visualization.\n",
        "    Arguments\n",
        "    ---------\n",
        "    cf:            confusion matrix to be passed in\n",
        "    group_names:   List of strings that represent the labels row by row to be shown in each square.\n",
        "    categories:    List of strings containing the categories to be displayed on the x,y axis. Default is 'auto'\n",
        "    count:         If True, show the raw number in the confusion matrix. Default is True.\n",
        "    normalize:     If True, show the proportions for each category. Default is True.\n",
        "    cbar:          If True, show the color bar. The cbar values are based off the values in the confusion matrix.\n",
        "                   Default is True.\n",
        "    xyticks:       If True, show x and y ticks. Default is True.\n",
        "    xyplotlabels:  If True, show 'True Label' and 'Predicted Label' on the figure. Default is True.\n",
        "    sum_stats:     If True, display summary statistics below the figure. Default is True.\n",
        "    figsize:       Tuple representing the figure size. Default will be the matplotlib rcParams value.\n",
        "    cmap:          Colormap of the values displayed from matplotlib.pyplot.cm. Default is 'Blues'\n",
        "                   See http://matplotlib.org/examples/color/colormaps_reference.html\n",
        "                   \n",
        "    title:         Title for the heatmap. Default is None.\n",
        "    '''\n",
        "\n",
        "\n",
        "    # CODE TO GENERATE TEXT INSIDE EACH SQUARE\n",
        "    blanks = ['' for i in range(cf.size)]\n",
        "\n",
        "    if group_names and len(group_names)==cf.size:\n",
        "        group_labels = [\"{}\\n\".format(value) for value in group_names]\n",
        "    else:\n",
        "        group_labels = blanks\n",
        "\n",
        "    if count:\n",
        "        group_counts = [\"{0:0.0f}\\n\".format(value) for value in cf.flatten()]\n",
        "    else:\n",
        "        group_counts = blanks\n",
        "\n",
        "    if percent:\n",
        "        group_percentages = [\"{0:.2%}\".format(value) for value in cf.flatten()/np.sum(cf)]\n",
        "    else:\n",
        "        group_percentages = blanks\n",
        "\n",
        "    box_labels = [f\"{v1}{v2}{v3}\".strip() for v1, v2, v3 in zip(group_labels,group_counts,group_percentages)]\n",
        "    box_labels = np.asarray(box_labels).reshape(cf.shape[0],cf.shape[1])\n",
        "\n",
        "\n",
        "    # CODE TO GENERATE SUMMARY STATISTICS & TEXT FOR SUMMARY STATS\n",
        "    if sum_stats:\n",
        "        #Accuracy is sum of diagonal divided by total observations\n",
        "        accuracy  = np.trace(cf) / float(np.sum(cf))\n",
        "\n",
        "        #if it is a binary confusion matrix, show some more stats\n",
        "        if len(cf)==2:\n",
        "            #Metrics for Binary Confusion Matrices\n",
        "            precision = cf[1,1] / sum(cf[:,1])\n",
        "            recall    = cf[1,1] / sum(cf[1,:])\n",
        "            f1_score  = 2*precision*recall / (precision + recall)\n",
        "            stats_text = \"\\n\\nAccuracy={:0.3f}\\nPrecision={:0.3f}\\nRecall={:0.3f}\\nF1 Score={:0.3f}\".format(\n",
        "                accuracy,precision,recall,f1_score)\n",
        "        else:\n",
        "            stats_text = \"\\n\\nAccuracy={:0.3f}\".format(accuracy)\n",
        "    else:\n",
        "        stats_text = \"\"\n",
        "\n",
        "\n",
        "    # SET FIGURE PARAMETERS ACCORDING TO OTHER ARGUMENTS\n",
        "    if figsize==None:\n",
        "        #Get default figure size if not set\n",
        "        figsize = plt.rcParams.get('figure.figsize')\n",
        "\n",
        "    if xyticks==False:\n",
        "        #Do not show categories if xyticks is False\n",
        "        categories=False\n",
        "\n",
        "\n",
        "    # MAKE THE HEATMAP VISUALIZATION\n",
        "    plt.figure(figsize=figsize)\n",
        "    sns.set(font_scale = 1.2)\n",
        "    sns.heatmap(cf,annot=box_labels,fmt=\"\",cmap=cmap,cbar=cbar,xticklabels=categories,yticklabels=categories)\n",
        "\n",
        "    if xyplotlabels:\n",
        "        plt.ylabel('True label', fontsize = 10)\n",
        "        plt.xlabel('Predicted label' + stats_text, fontsize = 10)\n",
        "    else:\n",
        "        plt.xlabel(stats_text, fontsize = 10)\n",
        "    \n",
        "    if title:\n",
        "        plt.title(title, fontsize = 10)"
      ],
      "metadata": {
        "id": "VVWrqZLThSWu"
      },
      "execution_count": 94,
      "outputs": []
    },
    {
      "cell_type": "code",
      "source": [
        "import seaborn as sns\n",
        "\n",
        "make_confusion_matrix(cf_1, \n",
        "                      group_names=labels,\n",
        "                      categories=categories,\n",
        "                      figsize = (15,15),\n",
        "                      cmap='Blues', sum_stats=False, count=True)\n",
        "\n"
      ],
      "metadata": {
        "colab": {
          "base_uri": "https://localhost:8080/",
          "height": 883
        },
        "id": "yvVcEo7vhSY2",
        "outputId": "83391a72-c0f8-4a17-fdb6-52d23457d23c"
      },
      "execution_count": 95,
      "outputs": [
        {
          "output_type": "display_data",
          "data": {
            "text/plain": [
              "<Figure size 1080x1080 with 2 Axes>"
            ],
            "image/png": "[encoded data removed]"
          },
          "metadata": {
            "needs_background": "light"
          }
        }
      ]
    },
    {
      "cell_type": "code",
      "source": [
        "#predicting the data\n",
        "y1_pred = RF_1.predict(x1_test)\n",
        "y1_prob_pred = RF_1.predict_proba(x1_test)"
      ],
      "metadata": {
        "id": "lg9kCLLwhSa9"
      },
      "execution_count": 96,
      "outputs": []
    },
    {
      "cell_type": "code",
      "source": [
        "print(classification_report(y1_test, y1_pred))"
      ],
      "metadata": {
        "colab": {
          "base_uri": "https://localhost:8080/"
        },
        "id": "XsN21YLShSc8",
        "outputId": "eb9bfb09-63d7-48ab-bf7d-d8ce6f9c3b30"
      },
      "execution_count": 97,
      "outputs": [
        {
          "output_type": "stream",
          "name": "stdout",
          "text": [
            "              precision    recall  f1-score   support\n",
            "\n",
            "     Compras       0.20      0.12      0.15       115\n",
            "      Escola       0.82      0.84      0.83      1375\n",
            "       Lazer       0.26      0.13      0.17       159\n",
            "    Negócios       0.27      0.35      0.30       179\n",
            "      Outros       0.21      0.14      0.17       159\n",
            "    Refeição       0.00      0.00      0.00         6\n",
            "  Residência       0.95      0.96      0.96      3687\n",
            "       Saúde       0.33      0.32      0.32       244\n",
            "    Trabalho       0.85      0.88      0.87      1978\n",
            "      carona       0.07      0.08      0.08        38\n",
            "\n",
            "    accuracy                           0.84      7940\n",
            "   macro avg       0.40      0.38      0.39      7940\n",
            "weighted avg       0.83      0.84      0.83      7940\n",
            "\n"
          ]
        }
      ]
    },
    {
      "cell_type": "markdown",
      "source": [
        "Este modelo apresentou métricas ruins, por isso um novo modelo será aplicado agrupando as atividades secundárias em uma categoria denominada \"outros\". Por serem atividades pouco representativas, elas estão incorporando ruídos ao modelo e deverão ser tratadas separadamente em outra etapa de modelagem ou considerando outros atributos, como por exemplo os Pontos de Interesse (POIs) como variáveis de uso e ocupação do solo."
      ],
      "metadata": {
        "id": "snrLWwoOhq8C"
      }
    },
    {
      "cell_type": "markdown",
      "source": [
        "# Modelo 2"
      ],
      "metadata": {
        "id": "7-A90c2_hv3e"
      }
    },
    {
      "cell_type": "code",
      "source": [
        "DF_MODELO_2 = DF_MODELO\n",
        "\n",
        "DF_MODELO_2['MOTIVO'] = DF_MODELO_2['MOTIVO'].map({'Residência':'Residência',\n",
        "                                                   'Escola':'Escola',\n",
        "                                                   'Trabalho':'Trabalho',\n",
        "                                                   'Saúde':'Outros',\n",
        "                                                   'Refeição': 'Outros', \n",
        "                                                   'Lazer':'Outros',\n",
        "                                                   'Outros':'Outros',\n",
        "                                                   'Compras':'Outros', \n",
        "                                                   'Negócios':'Outros',\n",
        "                                                   'carona':'Outros'})\n",
        "\n",
        "DF_MODELO_2"
      ],
      "metadata": {
        "colab": {
          "base_uri": "https://localhost:8080/",
          "height": 419
        },
        "id": "Fobc9gujhSfU",
        "outputId": "e4bfde2f-fa2b-4c58-a833-3a48dfd81ebb"
      },
      "execution_count": 98,
      "outputs": [
        {
          "output_type": "execute_result",
          "data": {
            "text/plain": [
              "            MOTIVO  HORARIO_INICIO_VIAGEM  TEMPO_ENTRE_EMBARQUES\n",
              "0           Escola                  11.75                   1.33\n",
              "1       Residência                  13.08                  22.67\n",
              "2           Escola                  17.00                   5.67\n",
              "3       Residência                  22.67                  18.33\n",
              "6         Trabalho                   5.75                   7.25\n",
              "...            ...                    ...                    ...\n",
              "139987  Residência                  17.00                  13.50\n",
              "139996      Escola                   5.67                   5.92\n",
              "139999  Residência                  17.50                  12.17\n",
              "140000      Escola                  12.67                   4.75\n",
              "140001  Residência                  17.42                  19.25\n",
              "\n",
              "[39698 rows x 3 columns]"
            ],
            "text/html": [
              "\n",
              "  <div id=\"df-1a42e98b-317a-4a0f-b571-45b48dfd7ef1\">\n",
              "    <div class=\"colab-df-container\">\n",
              "      <div>\n",
              "<style scoped>\n",
              "    .dataframe tbody tr th:only-of-type {\n",
              "        vertical-align: middle;\n",
              "    }\n",
              "\n",
              "    .dataframe tbody tr th {\n",
              "        vertical-align: top;\n",
              "    }\n",
              "\n",
              "    .dataframe thead th {\n",
              "        text-align: right;\n",
              "    }\n",
              "</style>\n",
              "<table border=\"1\" class=\"dataframe\">\n",
              "  <thead>\n",
              "    <tr style=\"text-align: right;\">\n",
              "      <th></th>\n",
              "      <th>MOTIVO</th>\n",
              "      <th>HORARIO_INICIO_VIAGEM</th>\n",
              "      <th>TEMPO_ENTRE_EMBARQUES</th>\n",
              "    </tr>\n",
              "  </thead>\n",
              "  <tbody>\n",
              "    <tr>\n",
              "      <th>0</th>\n",
              "      <td>Escola</td>\n",
              "      <td>11.75</td>\n",
              "      <td>1.33</td>\n",
              "    </tr>\n",
              "    <tr>\n",
              "      <th>1</th>\n",
              "      <td>Residência</td>\n",
              "      <td>13.08</td>\n",
              "      <td>22.67</td>\n",
              "    </tr>\n",
              "    <tr>\n",
              "      <th>2</th>\n",
              "      <td>Escola</td>\n",
              "      <td>17.00</td>\n",
              "      <td>5.67</td>\n",
              "    </tr>\n",
              "    <tr>\n",
              "      <th>3</th>\n",
              "      <td>Residência</td>\n",
              "      <td>22.67</td>\n",
              "      <td>18.33</td>\n",
              "    </tr>\n",
              "    <tr>\n",
              "      <th>6</th>\n",
              "      <td>Trabalho</td>\n",
              "      <td>5.75</td>\n",
              "      <td>7.25</td>\n",
              "    </tr>\n",
              "    <tr>\n",
              "      <th>...</th>\n",
              "      <td>...</td>\n",
              "      <td>...</td>\n",
              "      <td>...</td>\n",
              "    </tr>\n",
              "    <tr>\n",
              "      <th>139987</th>\n",
              "      <td>Residência</td>\n",
              "      <td>17.00</td>\n",
              "      <td>13.50</td>\n",
              "    </tr>\n",
              "    <tr>\n",
              "      <th>139996</th>\n",
              "      <td>Escola</td>\n",
              "      <td>5.67</td>\n",
              "      <td>5.92</td>\n",
              "    </tr>\n",
              "    <tr>\n",
              "      <th>139999</th>\n",
              "      <td>Residência</td>\n",
              "      <td>17.50</td>\n",
              "      <td>12.17</td>\n",
              "    </tr>\n",
              "    <tr>\n",
              "      <th>140000</th>\n",
              "      <td>Escola</td>\n",
              "      <td>12.67</td>\n",
              "      <td>4.75</td>\n",
              "    </tr>\n",
              "    <tr>\n",
              "      <th>140001</th>\n",
              "      <td>Residência</td>\n",
              "      <td>17.42</td>\n",
              "      <td>19.25</td>\n",
              "    </tr>\n",
              "  </tbody>\n",
              "</table>\n",
              "<p>39698 rows × 3 columns</p>\n",
              "</div>\n",
              "      <button class=\"colab-df-convert\" onclick=\"convertToInteractive('df-1a42e98b-317a-4a0f-b571-45b48dfd7ef1')\"\n",
              "              title=\"Convert this dataframe to an interactive table.\"\n",
              "              style=\"display:none;\">\n",
              "        \n",
              "  <svg xmlns=\"http://www.w3.org/2000/svg\" height=\"24px\"viewBox=\"0 0 24 24\"\n",
              "       width=\"24px\">\n",
              "    <path d=\"M0 0h24v24H0V0z\" fill=\"none\"/>\n",
              "    <path d=\"M18.56 5.44l.94 2.06.94-2.06 2.06-.94-2.06-.94-.94-2.06-.94 2.06-2.06.94zm-11 1L8.5 8.5l.94-2.06 2.06-.94-2.06-.94L8.5 2.5l-.94 2.06-2.06.94zm10 10l.94 2.06.94-2.06 2.06-.94-2.06-.94-.94-2.06-.94 2.06-2.06.94z\"/><path d=\"M17.41 7.96l-1.37-1.37c-.4-.4-.92-.59-1.43-.59-.52 0-1.04.2-1.43.59L10.3 9.45l-7.72 7.72c-.78.78-.78 2.05 0 2.83L4 21.41c.39.39.9.59 1.41.59.51 0 1.02-.2 1.41-.59l7.78-7.78 2.81-2.81c.8-.78.8-2.07 0-2.86zM5.41 20L4 18.59l7.72-7.72 1.47 1.35L5.41 20z\"/>\n",
              "  </svg>\n",
              "      </button>\n",
              "      \n",
              "  <style>\n",
              "    .colab-df-container {\n",
              "      display:flex;\n",
              "      flex-wrap:wrap;\n",
              "      gap: 12px;\n",
              "    }\n",
              "\n",
              "    .colab-df-convert {\n",
              "      background-color: #E8F0FE;\n",
              "      border: none;\n",
              "      border-radius: 50%;\n",
              "      cursor: pointer;\n",
              "      display: none;\n",
              "      fill: #1967D2;\n",
              "      height: 32px;\n",
              "      padding: 0 0 0 0;\n",
              "      width: 32px;\n",
              "    }\n",
              "\n",
              "    .colab-df-convert:hover {\n",
              "      background-color: #E2EBFA;\n",
              "      box-shadow: 0px 1px 2px rgba(60, 64, 67, 0.3), 0px 1px 3px 1px rgba(60, 64, 67, 0.15);\n",
              "      fill: #174EA6;\n",
              "    }\n",
              "\n",
              "    [theme=dark] .colab-df-convert {\n",
              "      background-color: #3B4455;\n",
              "      fill: #D2E3FC;\n",
              "    }\n",
              "\n",
              "    [theme=dark] .colab-df-convert:hover {\n",
              "      background-color: #434B5C;\n",
              "      box-shadow: 0px 1px 3px 1px rgba(0, 0, 0, 0.15);\n",
              "      filter: drop-shadow(0px 1px 2px rgba(0, 0, 0, 0.3));\n",
              "      fill: #FFFFFF;\n",
              "    }\n",
              "  </style>\n",
              "\n",
              "      <script>\n",
              "        const buttonEl =\n",
              "          document.querySelector('#df-1a42e98b-317a-4a0f-b571-45b48dfd7ef1 button.colab-df-convert');\n",
              "        buttonEl.style.display =\n",
              "          google.colab.kernel.accessAllowed ? 'block' : 'none';\n",
              "\n",
              "        async function convertToInteractive(key) {\n",
              "          const element = document.querySelector('#df-1a42e98b-317a-4a0f-b571-45b48dfd7ef1');\n",
              "          const dataTable =\n",
              "            await google.colab.kernel.invokeFunction('convertToInteractive',\n",
              "                                                     [key], {});\n",
              "          if (!dataTable) return;\n",
              "\n",
              "          const docLinkHtml = 'Like what you see? Visit the ' +\n",
              "            '<a target=\"_blank\" href=https://colab.research.google.com/notebooks/data_table.ipynb>data table notebook</a>'\n",
              "            + ' to learn more about interactive tables.';\n",
              "          element.innerHTML = '';\n",
              "          dataTable['output_type'] = 'display_data';\n",
              "          await google.colab.output.renderOutput(dataTable, element);\n",
              "          const docLink = document.createElement('div');\n",
              "          docLink.innerHTML = docLinkHtml;\n",
              "          element.appendChild(docLink);\n",
              "        }\n",
              "      </script>\n",
              "    </div>\n",
              "  </div>\n",
              "  "
            ]
          },
          "metadata": {},
          "execution_count": 98
        }
      ]
    },
    {
      "cell_type": "code",
      "source": [
        "# Verificando a distribuição de registros por motivo de viagem\n",
        "\n",
        "y_2 = DF_MODELO_2['MOTIVO'].values\n",
        "\n",
        "counter_2 = Counter(y_2)\n",
        "counter_2"
      ],
      "metadata": {
        "colab": {
          "base_uri": "https://localhost:8080/"
        },
        "id": "Mju2tg0BhSjw",
        "outputId": "cf8f7bad-11d0-407a-ff7a-fac1f638c811"
      },
      "execution_count": 99,
      "outputs": [
        {
          "output_type": "execute_result",
          "data": {
            "text/plain": [
              "Counter({'Escola': 6703,\n",
              "         'Residência': 18592,\n",
              "         'Trabalho': 10099,\n",
              "         'Outros': 4304})"
            ]
          },
          "metadata": {},
          "execution_count": 99
        }
      ]
    },
    {
      "cell_type": "code",
      "source": [
        "# Visualiza a distribuição do número de viagens por motivo\n",
        "\n",
        "plt.figure(figsize=(18,12))\n",
        "ax = sns.countplot(x=\"MOTIVO\", data=DF_MODELO_2)\n",
        "plt.gcf().set_size_inches(15, 4)"
      ],
      "metadata": {
        "colab": {
          "base_uri": "https://localhost:8080/",
          "height": 289
        },
        "id": "5lpK4-FohSmE",
        "outputId": "10a465d6-7488-4f0f-8aba-a9bfa809a430"
      },
      "execution_count": 100,
      "outputs": [
        {
          "output_type": "display_data",
          "data": {
            "text/plain": [
              "<Figure size 1080x288 with 1 Axes>"
            ],
            "image/png": "[encoded data removed]"
          },
          "metadata": {}
        }
      ]
    },
    {
      "cell_type": "code",
      "source": [
        "# Definindo as variáveis do modelo \n",
        "\n",
        "X_M2 = DF_MODELO_2.iloc[:,1:]\n",
        "y_M2 = DF_MODELO_2['MOTIVO'].values"
      ],
      "metadata": {
        "id": "DApS8sZBiNHz"
      },
      "execution_count": 101,
      "outputs": []
    },
    {
      "cell_type": "code",
      "source": [
        "# Divide o DataFrame em treino teste\n",
        "x2_training, x2_test, y2_training, y2_test = train_test_split(X_M2, y_M2, test_size = 0.2)"
      ],
      "metadata": {
        "id": "Oj718qa6iNUP"
      },
      "execution_count": 102,
      "outputs": []
    },
    {
      "cell_type": "code",
      "source": [
        "# Testa diferentes modelo de classificação\n",
        "\n",
        "# Definindo os valores para o número de folds\n",
        "\n",
        "num_folds = 10\n",
        "num_instances = len(x2_training)\n",
        "seed = 7\n",
        "\n",
        "#Preparando os modelos\n",
        "modelos_2 = []\n",
        "modelos_2.append(('KNN', KNeighborsClassifier()))\n",
        "modelos_2.append(('CART', DecisionTreeClassifier()))\n",
        "modelos_2.append(('NB', GaussianNB()))\n",
        "modelos_2.append(('RF', RandomForestClassifier()))\n"
      ],
      "metadata": {
        "id": "Qr2hEl0FiNWs"
      },
      "execution_count": 103,
      "outputs": []
    },
    {
      "cell_type": "code",
      "source": [
        "# Avaliando cada modelo\n",
        "resultados_2 = []\n",
        "nomes = []\n",
        "\n",
        "for nome, modelo in modelos_2:\n",
        "    kfold = model_selection.KFold(n_splits=num_folds, random_state=seed, shuffle=True)\n",
        "    cv_results = model_selection.cross_val_score(modelo, x2_training, y2_training, cv=kfold, scoring='accuracy')\n",
        "    resultados.append(cv_results)\n",
        "    nomes.append(nome)\n",
        "    msg = \"%s: %f (%f)\" % (nome, cv_results.mean(), cv_results.std())\n",
        "    print(msg)\n",
        "    "
      ],
      "metadata": {
        "colab": {
          "base_uri": "https://localhost:8080/"
        },
        "id": "argV0xfSiWWQ",
        "outputId": "526b493b-bfd5-4a26-c424-fadce893ccb8"
      },
      "execution_count": 104,
      "outputs": [
        {
          "output_type": "stream",
          "name": "stdout",
          "text": [
            "KNN: 0.894389 (0.005924)\n",
            "CART: 0.882518 (0.006476)\n",
            "NB: 0.834687 (0.007731)\n",
            "RF: 0.892909 (0.006299)\n"
          ]
        }
      ]
    },
    {
      "cell_type": "code",
      "source": [
        "# Matriz de confusão (modelo Random Forest)\n",
        "\n",
        "num_folds = 10\n",
        "num_instances = len(x2_training)\n",
        "seed = 7\n",
        "\n",
        "RF_2 = RandomForestClassifier()"
      ],
      "metadata": {
        "id": "EKJx9CALiWYi"
      },
      "execution_count": 105,
      "outputs": []
    },
    {
      "cell_type": "code",
      "source": [
        "kfold = model_selection.KFold(n_splits=num_folds, random_state=seed, shuffle=True)\n",
        "cv_results = model_selection.cross_val_score(RF_2, x2_training, y2_training, cv=kfold, scoring='accuracy')"
      ],
      "metadata": {
        "id": "92rpHHL1iWa5"
      },
      "execution_count": 106,
      "outputs": []
    },
    {
      "cell_type": "code",
      "source": [
        "RF_2.fit(x2_training, y2_training)\n",
        "previsao_RF = RF_2.predict(x2_test)\n",
        "\n",
        "plt.figure(figsize=(20, 20))\n",
        "plot_confusion_matrix(RF_2, x2_test, y2_test, cmap=plt.cm.Blues)\n",
        "plt.title('Confusion matrix')\n",
        "plt.xlabel(\"Predicted Label\")\n",
        "plt.ylabel(\"True Label\")\n",
        "plt.savefig('teste.png', format='png' ,dpi = 300)\n",
        "plt.show()\n"
      ],
      "metadata": {
        "colab": {
          "base_uri": "https://localhost:8080/",
          "height": 323
        },
        "id": "YzPzRvUIiWdI",
        "outputId": "0a3785af-3037-476e-f6d2-abf28c600a18"
      },
      "execution_count": 107,
      "outputs": [
        {
          "output_type": "display_data",
          "data": {
            "text/plain": [
              "<Figure size 1440x1440 with 0 Axes>"
            ]
          },
          "metadata": {}
        },
        {
          "output_type": "display_data",
          "data": {
            "text/plain": [
              "<Figure size 432x288 with 2 Axes>"
            ],
            "image/png": "[encoded data removed]"
          },
          "metadata": {}
        }
      ]
    },
    {
      "cell_type": "code",
      "source": [
        "#predicting the data\n",
        "y2_pred = RF_2.predict(x2_test)\n",
        "y2_prob_pred = RF_2.predict_proba(x2_test)"
      ],
      "metadata": {
        "id": "m0qxWyILiWfX"
      },
      "execution_count": 108,
      "outputs": []
    },
    {
      "cell_type": "code",
      "source": [
        "# Plot non-normalized confusion matrix\n",
        "\n",
        "from sklearn.metrics import ConfusionMatrixDisplay\n",
        "RF_2.fit(x2_training, y2_training)\n",
        "previsao_RF = RF_2.predict(x2_test)\n",
        "\n",
        "plt.figure(figsize=(1000, 1000))\n",
        "cf_2 = confusion_matrix(y2_test, previsao_RF)\n",
        "print(cf_2);"
      ],
      "metadata": {
        "colab": {
          "base_uri": "https://localhost:8080/",
          "height": 477
        },
        "id": "zQeib7z_iWhv",
        "outputId": "dfd9b395-b2fe-41f3-9942-e82a48e5a312"
      },
      "execution_count": 111,
      "outputs": [
        {
          "output_type": "stream",
          "name": "stdout",
          "text": [
            "[[1109   66    9  144]\n",
            " [  74  612   68  101]\n",
            " [  22   91 3573   42]\n",
            " [ 122   82   47 1778]]\n",
            "Error in callback <function install_repl_displayhook.<locals>.post_execute at 0x7fe36f6d7280> (for post_execute):\n"
          ]
        },
        {
          "output_type": "error",
          "ename": "ValueError",
          "evalue": "ignored",
          "traceback": [
            "\u001b[0;31m---------------------------------------------------------------------------\u001b[0m",
            "\u001b[0;31mValueError\u001b[0m                                Traceback (most recent call last)",
            "\u001b[0;32m/usr/local/lib/python3.8/dist-packages/matplotlib/pyplot.py\u001b[0m in \u001b[0;36mpost_execute\u001b[0;34m()\u001b[0m\n\u001b[1;32m    107\u001b[0m             \u001b[0;32mdef\u001b[0m \u001b[0mpost_execute\u001b[0m\u001b[0;34m(\u001b[0m\u001b[0;34m)\u001b[0m\u001b[0;34m:\u001b[0m\u001b[0;34m\u001b[0m\u001b[0;34m\u001b[0m\u001b[0m\n\u001b[1;32m    108\u001b[0m                 \u001b[0;32mif\u001b[0m \u001b[0mmatplotlib\u001b[0m\u001b[0;34m.\u001b[0m\u001b[0mis_interactive\u001b[0m\u001b[0;34m(\u001b[0m\u001b[0;34m)\u001b[0m\u001b[0;34m:\u001b[0m\u001b[0;34m\u001b[0m\u001b[0;34m\u001b[0m\u001b[0m\n\u001b[0;32m--> 109\u001b[0;31m                     \u001b[0mdraw_all\u001b[0m\u001b[0;34m(\u001b[0m\u001b[0;34m)\u001b[0m\u001b[0;34m\u001b[0m\u001b[0;34m\u001b[0m\u001b[0m\n\u001b[0m\u001b[1;32m    110\u001b[0m \u001b[0;34m\u001b[0m\u001b[0m\n\u001b[1;32m    111\u001b[0m             \u001b[0;31m# IPython >= 2\u001b[0m\u001b[0;34m\u001b[0m\u001b[0;34m\u001b[0m\u001b[0;34m\u001b[0m\u001b[0m\n",
            "\u001b[0;32m/usr/local/lib/python3.8/dist-packages/matplotlib/_pylab_helpers.py\u001b[0m in \u001b[0;36mdraw_all\u001b[0;34m(cls, force)\u001b[0m\n\u001b[1;32m    125\u001b[0m         \u001b[0;32mfor\u001b[0m \u001b[0mf_mgr\u001b[0m \u001b[0;32min\u001b[0m \u001b[0mcls\u001b[0m\u001b[0;34m.\u001b[0m\u001b[0mget_all_fig_managers\u001b[0m\u001b[0;34m(\u001b[0m\u001b[0;34m)\u001b[0m\u001b[0;34m:\u001b[0m\u001b[0;34m\u001b[0m\u001b[0;34m\u001b[0m\u001b[0m\n\u001b[1;32m    126\u001b[0m             \u001b[0;32mif\u001b[0m \u001b[0mforce\u001b[0m \u001b[0;32mor\u001b[0m \u001b[0mf_mgr\u001b[0m\u001b[0;34m.\u001b[0m\u001b[0mcanvas\u001b[0m\u001b[0;34m.\u001b[0m\u001b[0mfigure\u001b[0m\u001b[0;34m.\u001b[0m\u001b[0mstale\u001b[0m\u001b[0;34m:\u001b[0m\u001b[0;34m\u001b[0m\u001b[0;34m\u001b[0m\u001b[0m\n\u001b[0;32m--> 127\u001b[0;31m                 \u001b[0mf_mgr\u001b[0m\u001b[0;34m.\u001b[0m\u001b[0mcanvas\u001b[0m\u001b[0;34m.\u001b[0m\u001b[0mdraw_idle\u001b[0m\u001b[0;34m(\u001b[0m\u001b[0;34m)\u001b[0m\u001b[0;34m\u001b[0m\u001b[0;34m\u001b[0m\u001b[0m\n\u001b[0m\u001b[1;32m    128\u001b[0m \u001b[0;34m\u001b[0m\u001b[0m\n\u001b[1;32m    129\u001b[0m \u001b[0matexit\u001b[0m\u001b[0;34m.\u001b[0m\u001b[0mregister\u001b[0m\u001b[0;34m(\u001b[0m\u001b[0mGcf\u001b[0m\u001b[0;34m.\u001b[0m\u001b[0mdestroy_all\u001b[0m\u001b[0;34m)\u001b[0m\u001b[0;34m\u001b[0m\u001b[0;34m\u001b[0m\u001b[0m\n",
            "\u001b[0;32m/usr/local/lib/python3.8/dist-packages/matplotlib/backend_bases.py\u001b[0m in \u001b[0;36mdraw_idle\u001b[0;34m(self, *args, **kwargs)\u001b[0m\n\u001b[1;32m   1945\u001b[0m         \u001b[0;32mif\u001b[0m \u001b[0;32mnot\u001b[0m \u001b[0mself\u001b[0m\u001b[0;34m.\u001b[0m\u001b[0m_is_idle_drawing\u001b[0m\u001b[0;34m:\u001b[0m\u001b[0;34m\u001b[0m\u001b[0;34m\u001b[0m\u001b[0m\n\u001b[1;32m   1946\u001b[0m             \u001b[0;32mwith\u001b[0m \u001b[0mself\u001b[0m\u001b[0;34m.\u001b[0m\u001b[0m_idle_draw_cntx\u001b[0m\u001b[0;34m(\u001b[0m\u001b[0;34m)\u001b[0m\u001b[0;34m:\u001b[0m\u001b[0;34m\u001b[0m\u001b[0;34m\u001b[0m\u001b[0m\n\u001b[0;32m-> 1947\u001b[0;31m                 \u001b[0mself\u001b[0m\u001b[0;34m.\u001b[0m\u001b[0mdraw\u001b[0m\u001b[0;34m(\u001b[0m\u001b[0;34m*\u001b[0m\u001b[0margs\u001b[0m\u001b[0;34m,\u001b[0m \u001b[0;34m**\u001b[0m\u001b[0mkwargs\u001b[0m\u001b[0;34m)\u001b[0m\u001b[0;34m\u001b[0m\u001b[0;34m\u001b[0m\u001b[0m\n\u001b[0m\u001b[1;32m   1948\u001b[0m \u001b[0;34m\u001b[0m\u001b[0m\n\u001b[1;32m   1949\u001b[0m     \u001b[0;34m@\u001b[0m\u001b[0mcbook\u001b[0m\u001b[0;34m.\u001b[0m\u001b[0mdeprecated\u001b[0m\u001b[0;34m(\u001b[0m\u001b[0;34m\"3.2\"\u001b[0m\u001b[0;34m)\u001b[0m\u001b[0;34m\u001b[0m\u001b[0;34m\u001b[0m\u001b[0m\n",
            "\u001b[0;32m/usr/local/lib/python3.8/dist-packages/matplotlib/backends/backend_agg.py\u001b[0m in \u001b[0;36mdraw\u001b[0;34m(self)\u001b[0m\n\u001b[1;32m    386\u001b[0m         \u001b[0mDraw\u001b[0m \u001b[0mthe\u001b[0m \u001b[0mfigure\u001b[0m \u001b[0musing\u001b[0m \u001b[0mthe\u001b[0m \u001b[0mrenderer\u001b[0m\u001b[0;34m.\u001b[0m\u001b[0;34m\u001b[0m\u001b[0;34m\u001b[0m\u001b[0m\n\u001b[1;32m    387\u001b[0m         \"\"\"\n\u001b[0;32m--> 388\u001b[0;31m         \u001b[0mself\u001b[0m\u001b[0;34m.\u001b[0m\u001b[0mrenderer\u001b[0m \u001b[0;34m=\u001b[0m \u001b[0mself\u001b[0m\u001b[0;34m.\u001b[0m\u001b[0mget_renderer\u001b[0m\u001b[0;34m(\u001b[0m\u001b[0mcleared\u001b[0m\u001b[0;34m=\u001b[0m\u001b[0;32mTrue\u001b[0m\u001b[0;34m)\u001b[0m\u001b[0;34m\u001b[0m\u001b[0;34m\u001b[0m\u001b[0m\n\u001b[0m\u001b[1;32m    389\u001b[0m         \u001b[0;31m# Acquire a lock on the shared font cache.\u001b[0m\u001b[0;34m\u001b[0m\u001b[0;34m\u001b[0m\u001b[0;34m\u001b[0m\u001b[0m\n\u001b[1;32m    390\u001b[0m         \u001b[0;32mwith\u001b[0m \u001b[0mRendererAgg\u001b[0m\u001b[0;34m.\u001b[0m\u001b[0mlock\u001b[0m\u001b[0;34m,\u001b[0m\u001b[0;31m \u001b[0m\u001b[0;31m\\\u001b[0m\u001b[0;34m\u001b[0m\u001b[0;34m\u001b[0m\u001b[0m\n",
            "\u001b[0;32m/usr/local/lib/python3.8/dist-packages/matplotlib/backends/backend_agg.py\u001b[0m in \u001b[0;36mget_renderer\u001b[0;34m(self, cleared)\u001b[0m\n\u001b[1;32m    402\u001b[0m                           and getattr(self, \"_lastKey\", None) == key)\n\u001b[1;32m    403\u001b[0m         \u001b[0;32mif\u001b[0m \u001b[0;32mnot\u001b[0m \u001b[0mreuse_renderer\u001b[0m\u001b[0;34m:\u001b[0m\u001b[0;34m\u001b[0m\u001b[0;34m\u001b[0m\u001b[0m\n\u001b[0;32m--> 404\u001b[0;31m             \u001b[0mself\u001b[0m\u001b[0;34m.\u001b[0m\u001b[0mrenderer\u001b[0m \u001b[0;34m=\u001b[0m \u001b[0mRendererAgg\u001b[0m\u001b[0;34m(\u001b[0m\u001b[0mw\u001b[0m\u001b[0;34m,\u001b[0m \u001b[0mh\u001b[0m\u001b[0;34m,\u001b[0m \u001b[0mself\u001b[0m\u001b[0;34m.\u001b[0m\u001b[0mfigure\u001b[0m\u001b[0;34m.\u001b[0m\u001b[0mdpi\u001b[0m\u001b[0;34m)\u001b[0m\u001b[0;34m\u001b[0m\u001b[0;34m\u001b[0m\u001b[0m\n\u001b[0m\u001b[1;32m    405\u001b[0m             \u001b[0mself\u001b[0m\u001b[0;34m.\u001b[0m\u001b[0m_lastKey\u001b[0m \u001b[0;34m=\u001b[0m \u001b[0mkey\u001b[0m\u001b[0;34m\u001b[0m\u001b[0;34m\u001b[0m\u001b[0m\n\u001b[1;32m    406\u001b[0m         \u001b[0;32melif\u001b[0m \u001b[0mcleared\u001b[0m\u001b[0;34m:\u001b[0m\u001b[0;34m\u001b[0m\u001b[0;34m\u001b[0m\u001b[0m\n",
            "\u001b[0;32m/usr/local/lib/python3.8/dist-packages/matplotlib/backends/backend_agg.py\u001b[0m in \u001b[0;36m__init__\u001b[0;34m(self, width, height, dpi)\u001b[0m\n\u001b[1;32m     90\u001b[0m         \u001b[0mself\u001b[0m\u001b[0;34m.\u001b[0m\u001b[0mwidth\u001b[0m \u001b[0;34m=\u001b[0m \u001b[0mwidth\u001b[0m\u001b[0;34m\u001b[0m\u001b[0;34m\u001b[0m\u001b[0m\n\u001b[1;32m     91\u001b[0m         \u001b[0mself\u001b[0m\u001b[0;34m.\u001b[0m\u001b[0mheight\u001b[0m \u001b[0;34m=\u001b[0m \u001b[0mheight\u001b[0m\u001b[0;34m\u001b[0m\u001b[0;34m\u001b[0m\u001b[0m\n\u001b[0;32m---> 92\u001b[0;31m         \u001b[0mself\u001b[0m\u001b[0;34m.\u001b[0m\u001b[0m_renderer\u001b[0m \u001b[0;34m=\u001b[0m \u001b[0m_RendererAgg\u001b[0m\u001b[0;34m(\u001b[0m\u001b[0mint\u001b[0m\u001b[0;34m(\u001b[0m\u001b[0mwidth\u001b[0m\u001b[0;34m)\u001b[0m\u001b[0;34m,\u001b[0m \u001b[0mint\u001b[0m\u001b[0;34m(\u001b[0m\u001b[0mheight\u001b[0m\u001b[0;34m)\u001b[0m\u001b[0;34m,\u001b[0m \u001b[0mdpi\u001b[0m\u001b[0;34m)\u001b[0m\u001b[0;34m\u001b[0m\u001b[0;34m\u001b[0m\u001b[0m\n\u001b[0m\u001b[1;32m     93\u001b[0m         \u001b[0mself\u001b[0m\u001b[0;34m.\u001b[0m\u001b[0m_filter_renderers\u001b[0m \u001b[0;34m=\u001b[0m \u001b[0;34m[\u001b[0m\u001b[0;34m]\u001b[0m\u001b[0;34m\u001b[0m\u001b[0;34m\u001b[0m\u001b[0m\n\u001b[1;32m     94\u001b[0m \u001b[0;34m\u001b[0m\u001b[0m\n",
            "\u001b[0;31mValueError\u001b[0m: Image size of 72000x72000 pixels is too large. It must be less than 2^16 in each direction."
          ]
        },
        {
          "output_type": "display_data",
          "data": {
            "text/plain": [
              "<Figure size 72000x72000 with 0 Axes>"
            ]
          },
          "metadata": {}
        }
      ]
    },
    {
      "cell_type": "code",
      "source": [],
      "metadata": {
        "id": "EvfuMr4liWkW"
      },
      "execution_count": null,
      "outputs": []
    },
    {
      "cell_type": "code",
      "source": [],
      "metadata": {
        "id": "2FpAnrYPiWm-"
      },
      "execution_count": null,
      "outputs": []
    },
    {
      "cell_type": "code",
      "source": [],
      "metadata": {
        "id": "n7r7Pbd_iWpv"
      },
      "execution_count": null,
      "outputs": []
    }
  ]
}